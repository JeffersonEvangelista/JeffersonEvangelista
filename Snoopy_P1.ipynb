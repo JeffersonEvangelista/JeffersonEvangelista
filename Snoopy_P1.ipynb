{
  "nbformat": 4,
  "nbformat_minor": 0,
  "metadata": {
    "colab": {
      "provenance": [],
      "gpuType": "T4",
      "include_colab_link": true
    },
    "kernelspec": {
      "name": "python3",
      "display_name": "Python 3"
    },
    "language_info": {
      "name": "python"
    },
    "accelerator": "GPU"
  },
  "cells": [
    {
      "cell_type": "markdown",
      "metadata": {
        "id": "view-in-github",
        "colab_type": "text"
      },
      "source": [
        "<a href=\"https://colab.research.google.com/github/JeffersonEvangelista/JeffersonEvangelista/blob/main/Snoopy_P1.ipynb\" target=\"_parent\"><img src=\"https://colab.research.google.com/assets/colab-badge.svg\" alt=\"Open In Colab\"/></a>"
      ]
    },
    {
      "cell_type": "markdown",
      "source": [
        "## P1"
      ],
      "metadata": {
        "id": "dYepGREAzU7y"
      }
    },
    {
      "cell_type": "code",
      "source": [
        "import bs4 as bs\n",
        "# pip install bs4\n",
        "import urllib.request\n",
        "import re\n",
        "import nltk\n",
        "import numpy as np\n",
        "import random\n",
        "import string\n"
      ],
      "metadata": {
        "id": "e7CCdNmdvB7-"
      },
      "execution_count": null,
      "outputs": []
    },
    {
      "cell_type": "code",
      "source": [
        "nltk.download('punkt')"
      ],
      "metadata": {
        "colab": {
          "base_uri": "https://localhost:8080/"
        },
        "id": "6FM0a9jIvFux",
        "outputId": "8fc05774-9370-405b-b473-af9052602ca5"
      },
      "execution_count": null,
      "outputs": [
        {
          "output_type": "stream",
          "name": "stderr",
          "text": [
            "[nltk_data] Downloading package punkt to /root/nltk_data...\n",
            "[nltk_data]   Unzipping tokenizers/punkt.zip.\n"
          ]
        },
        {
          "output_type": "execute_result",
          "data": {
            "text/plain": [
              "True"
            ]
          },
          "metadata": {},
          "execution_count": 2
        }
      ]
    },
    {
      "cell_type": "code",
      "source": [
        "!pip install spacy --upgrade"
      ],
      "metadata": {
        "colab": {
          "base_uri": "https://localhost:8080/"
        },
        "id": "QA-N6t-wvH2w",
        "outputId": "fac30798-95d3-453d-f863-84ca30400c15",
        "collapsed": true
      },
      "execution_count": null,
      "outputs": [
        {
          "output_type": "stream",
          "name": "stdout",
          "text": [
            "Requirement already satisfied: spacy in /usr/local/lib/python3.11/dist-packages (3.8.7)\n",
            "Requirement already satisfied: spacy-legacy<3.1.0,>=3.0.11 in /usr/local/lib/python3.11/dist-packages (from spacy) (3.0.12)\n",
            "Requirement already satisfied: spacy-loggers<2.0.0,>=1.0.0 in /usr/local/lib/python3.11/dist-packages (from spacy) (1.0.5)\n",
            "Requirement already satisfied: murmurhash<1.1.0,>=0.28.0 in /usr/local/lib/python3.11/dist-packages (from spacy) (1.0.13)\n",
            "Requirement already satisfied: cymem<2.1.0,>=2.0.2 in /usr/local/lib/python3.11/dist-packages (from spacy) (2.0.11)\n",
            "Requirement already satisfied: preshed<3.1.0,>=3.0.2 in /usr/local/lib/python3.11/dist-packages (from spacy) (3.0.10)\n",
            "Requirement already satisfied: thinc<8.4.0,>=8.3.4 in /usr/local/lib/python3.11/dist-packages (from spacy) (8.3.6)\n",
            "Requirement already satisfied: wasabi<1.2.0,>=0.9.1 in /usr/local/lib/python3.11/dist-packages (from spacy) (1.1.3)\n",
            "Requirement already satisfied: srsly<3.0.0,>=2.4.3 in /usr/local/lib/python3.11/dist-packages (from spacy) (2.5.1)\n",
            "Requirement already satisfied: catalogue<2.1.0,>=2.0.6 in /usr/local/lib/python3.11/dist-packages (from spacy) (2.0.10)\n",
            "Requirement already satisfied: weasel<0.5.0,>=0.1.0 in /usr/local/lib/python3.11/dist-packages (from spacy) (0.4.1)\n",
            "Requirement already satisfied: typer<1.0.0,>=0.3.0 in /usr/local/lib/python3.11/dist-packages (from spacy) (0.16.0)\n",
            "Requirement already satisfied: tqdm<5.0.0,>=4.38.0 in /usr/local/lib/python3.11/dist-packages (from spacy) (4.67.1)\n",
            "Requirement already satisfied: numpy>=1.19.0 in /usr/local/lib/python3.11/dist-packages (from spacy) (2.0.2)\n",
            "Requirement already satisfied: requests<3.0.0,>=2.13.0 in /usr/local/lib/python3.11/dist-packages (from spacy) (2.32.3)\n",
            "Requirement already satisfied: pydantic!=1.8,!=1.8.1,<3.0.0,>=1.7.4 in /usr/local/lib/python3.11/dist-packages (from spacy) (2.11.7)\n",
            "Requirement already satisfied: jinja2 in /usr/local/lib/python3.11/dist-packages (from spacy) (3.1.6)\n",
            "Requirement already satisfied: setuptools in /usr/local/lib/python3.11/dist-packages (from spacy) (75.2.0)\n",
            "Requirement already satisfied: packaging>=20.0 in /usr/local/lib/python3.11/dist-packages (from spacy) (24.2)\n",
            "Requirement already satisfied: langcodes<4.0.0,>=3.2.0 in /usr/local/lib/python3.11/dist-packages (from spacy) (3.5.0)\n",
            "Requirement already satisfied: language-data>=1.2 in /usr/local/lib/python3.11/dist-packages (from langcodes<4.0.0,>=3.2.0->spacy) (1.3.0)\n",
            "Requirement already satisfied: annotated-types>=0.6.0 in /usr/local/lib/python3.11/dist-packages (from pydantic!=1.8,!=1.8.1,<3.0.0,>=1.7.4->spacy) (0.7.0)\n",
            "Requirement already satisfied: pydantic-core==2.33.2 in /usr/local/lib/python3.11/dist-packages (from pydantic!=1.8,!=1.8.1,<3.0.0,>=1.7.4->spacy) (2.33.2)\n",
            "Requirement already satisfied: typing-extensions>=4.12.2 in /usr/local/lib/python3.11/dist-packages (from pydantic!=1.8,!=1.8.1,<3.0.0,>=1.7.4->spacy) (4.14.0)\n",
            "Requirement already satisfied: typing-inspection>=0.4.0 in /usr/local/lib/python3.11/dist-packages (from pydantic!=1.8,!=1.8.1,<3.0.0,>=1.7.4->spacy) (0.4.1)\n",
            "Requirement already satisfied: charset-normalizer<4,>=2 in /usr/local/lib/python3.11/dist-packages (from requests<3.0.0,>=2.13.0->spacy) (3.4.2)\n",
            "Requirement already satisfied: idna<4,>=2.5 in /usr/local/lib/python3.11/dist-packages (from requests<3.0.0,>=2.13.0->spacy) (3.10)\n",
            "Requirement already satisfied: urllib3<3,>=1.21.1 in /usr/local/lib/python3.11/dist-packages (from requests<3.0.0,>=2.13.0->spacy) (2.4.0)\n",
            "Requirement already satisfied: certifi>=2017.4.17 in /usr/local/lib/python3.11/dist-packages (from requests<3.0.0,>=2.13.0->spacy) (2025.6.15)\n",
            "Requirement already satisfied: blis<1.4.0,>=1.3.0 in /usr/local/lib/python3.11/dist-packages (from thinc<8.4.0,>=8.3.4->spacy) (1.3.0)\n",
            "Requirement already satisfied: confection<1.0.0,>=0.0.1 in /usr/local/lib/python3.11/dist-packages (from thinc<8.4.0,>=8.3.4->spacy) (0.1.5)\n",
            "Requirement already satisfied: click>=8.0.0 in /usr/local/lib/python3.11/dist-packages (from typer<1.0.0,>=0.3.0->spacy) (8.2.1)\n",
            "Requirement already satisfied: shellingham>=1.3.0 in /usr/local/lib/python3.11/dist-packages (from typer<1.0.0,>=0.3.0->spacy) (1.5.4)\n",
            "Requirement already satisfied: rich>=10.11.0 in /usr/local/lib/python3.11/dist-packages (from typer<1.0.0,>=0.3.0->spacy) (13.9.4)\n",
            "Requirement already satisfied: cloudpathlib<1.0.0,>=0.7.0 in /usr/local/lib/python3.11/dist-packages (from weasel<0.5.0,>=0.1.0->spacy) (0.21.1)\n",
            "Requirement already satisfied: smart-open<8.0.0,>=5.2.1 in /usr/local/lib/python3.11/dist-packages (from weasel<0.5.0,>=0.1.0->spacy) (7.1.0)\n",
            "Requirement already satisfied: MarkupSafe>=2.0 in /usr/local/lib/python3.11/dist-packages (from jinja2->spacy) (3.0.2)\n",
            "Requirement already satisfied: marisa-trie>=1.1.0 in /usr/local/lib/python3.11/dist-packages (from language-data>=1.2->langcodes<4.0.0,>=3.2.0->spacy) (1.2.1)\n",
            "Requirement already satisfied: markdown-it-py>=2.2.0 in /usr/local/lib/python3.11/dist-packages (from rich>=10.11.0->typer<1.0.0,>=0.3.0->spacy) (3.0.0)\n",
            "Requirement already satisfied: pygments<3.0.0,>=2.13.0 in /usr/local/lib/python3.11/dist-packages (from rich>=10.11.0->typer<1.0.0,>=0.3.0->spacy) (2.19.2)\n",
            "Requirement already satisfied: wrapt in /usr/local/lib/python3.11/dist-packages (from smart-open<8.0.0,>=5.2.1->weasel<0.5.0,>=0.1.0->spacy) (1.17.2)\n",
            "Requirement already satisfied: mdurl~=0.1 in /usr/local/lib/python3.11/dist-packages (from markdown-it-py>=2.2.0->rich>=10.11.0->typer<1.0.0,>=0.3.0->spacy) (0.1.2)\n"
          ]
        }
      ]
    },
    {
      "cell_type": "code",
      "source": [
        "import spacy\n",
        "spacy.__version__"
      ],
      "metadata": {
        "colab": {
          "base_uri": "https://localhost:8080/",
          "height": 35
        },
        "id": "SJxWMSDUvLu_",
        "outputId": "797e090e-4b45-4b6b-9275-94287b6e9a23"
      },
      "execution_count": null,
      "outputs": [
        {
          "output_type": "execute_result",
          "data": {
            "text/plain": [
              "'3.8.7'"
            ],
            "application/vnd.google.colaboratory.intrinsic+json": {
              "type": "string"
            }
          },
          "metadata": {},
          "execution_count": 4
        }
      ]
    },
    {
      "cell_type": "code",
      "source": [
        "!python3 -m spacy download pt"
      ],
      "metadata": {
        "colab": {
          "base_uri": "https://localhost:8080/"
        },
        "id": "fZmekb18vPly",
        "outputId": "6c10e6cd-50f3-4645-ae7f-b0bf74755eb5"
      },
      "execution_count": null,
      "outputs": [
        {
          "output_type": "stream",
          "name": "stdout",
          "text": [
            "\u001b[38;5;3m⚠ As of spaCy v3.0, shortcuts like 'pt' are deprecated. Please use the\n",
            "full pipeline package name 'pt_core_news_sm' instead.\u001b[0m\n",
            "Collecting pt-core-news-sm==3.8.0\n",
            "  Downloading https://github.com/explosion/spacy-models/releases/download/pt_core_news_sm-3.8.0/pt_core_news_sm-3.8.0-py3-none-any.whl (13.0 MB)\n",
            "\u001b[2K     \u001b[90m━━━━━━━━━━━━━━━━━━━━━━━━━━━━━━━━━━━━━━━━\u001b[0m \u001b[32m13.0/13.0 MB\u001b[0m \u001b[31m69.9 MB/s\u001b[0m eta \u001b[36m0:00:00\u001b[0m\n",
            "\u001b[?25hInstalling collected packages: pt-core-news-sm\n",
            "Successfully installed pt-core-news-sm-3.8.0\n",
            "\u001b[38;5;2m✔ Download and installation successful\u001b[0m\n",
            "You can now load the package via spacy.load('pt_core_news_sm')\n",
            "\u001b[38;5;3m⚠ Restart to reload dependencies\u001b[0m\n",
            "If you are in a Jupyter or Colab notebook, you may need to restart Python in\n",
            "order to load all the package's dependencies. You can do this by selecting the\n",
            "'Restart kernel' or 'Restart runtime' option.\n"
          ]
        }
      ]
    },
    {
      "cell_type": "code",
      "source": [
        "urls = [\n",
        "    'https://pt.wikipedia.org/wiki/Snoopy',                              # Personagem principal :contentReference[oaicite:1]{index=1}\n",
        "    'https://pt.wikipedia.org/wiki/Snoopy%2C_Come_Home%21',             # Filme de 1972 :contentReference[oaicite:2]{index=2}\n",
        "    'https://pt.wikipedia.org/wiki/Snoopy_no_Espa%C3%A7o',              # Série “Snoopy no Espaço” :contentReference[oaicite:3]{index=3}\n",
        "    'https://pt.wikipedia.org/wiki/The_Snoopy_Show',                    # “The Snoopy Show” :contentReference[oaicite:4]{index=4}\n",
        "    'https://pt.wikipedia.org/wiki/The_Charlie_Brown_and_Snoopy_Show'   # “The Charlie Brown and Snoopy Show” :contentReference[oaicite:5]{index=5}\n",
        "]\n",
        "\n",
        "todos_paragrafos = []"
      ],
      "metadata": {
        "id": "vwLYnXk9vb_f"
      },
      "execution_count": null,
      "outputs": []
    },
    {
      "cell_type": "code",
      "source": [
        "for url in urls:\n",
        "    try:\n",
        "        dados = urllib.request.urlopen(url)\n",
        "        dados = dados.read()\n",
        "        dados_html = bs.BeautifulSoup(dados, 'lxml')\n",
        "        paragrafos = dados_html.find_all('p')\n",
        "        todos_paragrafos.extend(paragrafos)\n",
        "    except Exception as e:\n",
        "        print(f\"Erro ao processar {url}: {str(e)}\")"
      ],
      "metadata": {
        "collapsed": true,
        "id": "BsPhg6OGw_a8"
      },
      "execution_count": null,
      "outputs": []
    },
    {
      "cell_type": "code",
      "source": [
        "num_paragrafos_total = len(todos_paragrafos)\n",
        "print (num_paragrafos_total)"
      ],
      "metadata": {
        "id": "tJPcTvp-xutk",
        "colab": {
          "base_uri": "https://localhost:8080/"
        },
        "outputId": "c119bf2e-4e2d-4d61-91d3-ceee6f5b139c"
      },
      "execution_count": null,
      "outputs": [
        {
          "output_type": "stream",
          "name": "stdout",
          "text": [
            "48\n"
          ]
        }
      ]
    },
    {
      "cell_type": "code",
      "source": [
        "print(todos_paragrafos[20].text)"
      ],
      "metadata": {
        "colab": {
          "base_uri": "https://localhost:8080/"
        },
        "id": "-sXGp9Kh3Jpu",
        "outputId": "abe73edd-0bc4-4c54-d5d9-a418fc615ca1"
      },
      "execution_count": null,
      "outputs": [
        {
          "output_type": "stream",
          "name": "stdout",
          "text": [
            "O cãozinho beagle Snoopy vive uma vida relativamente tranquila com seu dono Charlie Brown, indo costumeiramente à praia com sua amiga Patty Pimentinha onde brincam e nadam na água do mar alegremente. Contudo, sua vida livre causa irritação em Charlie Brown que percebe que Snoopy está cada vez mais se tornando \"independente\", saindo e voltando para casa no horário que quiser enquanto Charlie Brown prepara seu jantar todos os dias cada vez mais furioso com isso. Um dia, Snoopy é barrado de entrar na praia por conta de uma nova restrição que proibia cães no local, fazendo-o escrever uma carta para o seu \"editor\" reclamando sobre a restrição; Patty, que havia marcado de fazer um piquenique com Snoopy na praia, pensa que o cãozinho \"deu-lhe um bolo\" e se enfurece.\n",
            "\n"
          ]
        }
      ]
    },
    {
      "cell_type": "code",
      "source": [
        "conteudo = ''\n",
        "for p in todos_paragrafos:\n",
        "    conteudo += p.text + ' '"
      ],
      "metadata": {
        "id": "KvjWH9pS3M2d"
      },
      "execution_count": null,
      "outputs": []
    },
    {
      "cell_type": "code",
      "source": [
        "conteudo"
      ],
      "metadata": {
        "colab": {
          "base_uri": "https://localhost:8080/",
          "height": 105
        },
        "id": "txoGRccS3N2u",
        "outputId": "55b02cec-48df-4005-dbfc-f3e699e69854"
      },
      "execution_count": null,
      "outputs": [
        {
          "output_type": "execute_result",
          "data": {
            "text/plain": [
              "'Snoopy é o beagle[1] de estimação de Charlie Brown na tira em quadrinhos Peanuts, criada por Charles Schulz.\\n Snoopy aparece pela primeira vez em 4 de Outubro de 1950. Embora a primeira tirinha tenha sido apresentada em 2 de outubro do mesmo ano. Schulz originalmente ia chamar o cão de \"Sniffy\",  até que descobriu que esse nome já era usado em outra tirinha . Snoopy foi durante dois anos uma figura silenciosa, agindo como um cão real (caminhava sobre as quatro patas), mas, em 19 de Outubro de 1952, ele verbalizou os seus pensamentos aos leitores pela primeira vez através de balões; Snoopy tinha também a capacidade de entender tudo o que as restantes personagens dos Peanuts, com quem interagia, diziam. Schulz, após esta data, passou a incluir essas características na sua banda desenhada.\\n Snoopy é um cão extrovertido com complexo de Walter Mitty, com muitas virtudes. A maior parte delas não são reais, mas sonhos que fazem parte do seu mundo de fantasia, que aparecem quando Snoopy dorme no telhado da sua casota.\\n Muitos dos momentos memoráveis dos \"Peanuts\" ocorreram durante esses sonhos nos quais ele era um escritor: o seu eterno abrir da mala onde está a máquina de escrever. \"Estava uma escura e tempestuosa noite...\" foi tirado de uma história de Edward George Bulwer-Lytton escrita em 1830 chamada Paul Clifford. O contraste entre a existência de Snoopy no mundo dos sonhos e de Charlie Brown no mundo real é o centro do humor e da filosofia de Peanuts (ver ex: Título de um livro: \"A vida é um sonho, Charlie Brown\").\\n Schulz, numa entrevista em 1997, disse o seguinte acerca do carácter do Snoopy: \"ele tem que sair do seu mundo de fantasia para sobreviver. Por outro lado, se assim fosse ele levaria uma vida miserável e aborrecida.\"\\n Um dos primeiros desenvolvimentos do personagem de Snoopy foi a sua tendência para dormir no telhado da sua casa, em vez de dentro dela. Depois, Snoopy passou a andar apenas com duas pernas como um humano. Isso rapidamente se tornou tão comum que quase não se notou quando Snoopy começou a revelar uma variedade de alter egos, a personalidade mais notável é a do piloto da Primeira Guerra Mundial. Para compor esta faceta, ele põe os seus óculos de aviador, o seu capacete e voa no seu Sopwith Camel (na verdade, a sua casota), lutando contra Manfred von Richthofen (o Barão Vermelho), que aparece indiretamente representado pelas balas que atingem a sua casota.\\n Snoopy também se torna \"Joe Cool\" quando põe os óculos de sol e se encosta na parede sem fazer nada. Ele tem também uma personalidade em que é um escritor famoso (que na realidade chegou a publicar uma vez, numa história de Outubro de 1995, na qual uma cópia da sua obra sem nome foi escrita, mas resultou num fracasso de vendas), um advogado (que uma vez defendeu Peter Rabbit), um jogador de hóquei no gelo, um patinador olímpico (patinando com Sonja Henie), o \"Beagle Solitário\" (o primeiro cão a voar sozinho sobre o Atlântico) e também o primeiro astronauta a chegar à Lua.\\n Fora do seu mundo de fantasia, ele é o shortstop na pequena equipe de baseball do Charlie Brown (e também o melhor jogador, quase batendo o recorde de Babe Ruth de 714 home runs antes de Hank Aaron), e até tinha um Van Gogh, mais tarde substituído por um Andrew Wyeth depois de a sua primeira casa ter incendiado. Snoopy é também um \"escoteiro beagle\" (Beagle Scout), a versão dos \"Peanuts\" do \"Eagle Scout\" e é o líder de uma tropa que é constituida por Woodstock e por outros pássaros seus amigos. Este tema aparece ao longo de toda a banda desenhada. Outras personalidades que Snoopy apresenta são: o \"Flashbeagle\", o \"Vulture\", e o \"Legionário estrangeiro\".\\n A exceção do seu dono, Charlie Brown, o melhor amigo de Snoopy é o pequeno pássaro amarelo Woodstock, que apenas \"fala\" em marcas da apóstrofe. O seu arquinimigo (além Manfred von Richthofen) é o invisível \"Gato estúpido da porta ao lado\" (também chamado \"Terceira guerra mundial\"). Durante uma série das séries diárias,Snoopy antagonizou o gato a cada dia, e a pata do gato fazia movimentos gigantes que dizimavam a casinha recém-construída de Snoopy numa extensão maior que no dia anterior. De facto, o Snoopy não gostava de gatos em geral, comentando que eles eram \"as ervas daninhas no gramado da vida\" (\"the crab grass on the lawn of life\") e ficando ofendido com a expressão \"gatos e cães\", insistindo que a expressão correta deve ser \"cães e gatos\".\\n Charlie Brown é o dono do Snoopy (embora este seja um cão perdido que Charlie Brown adota), mas a relação entre eles não era como mestre e servo. O tormento de Charlie Brown, Lucy, uma vez exigiu saber quando é que ele levaria Snoopy a aulas de adestramento. Snoopy pergunta-se até que ponto Charlie Brown faria tudo o que ele quisesse.\\n Por um tempo, em 1977, Snoopy ficou prometido a uma cadela que nunca apareceu, que ele conheceu enquanto guardava a casa da Patty Pimentinha. Mas, ela fugiu com outro cachorro, e mais tarde viu-se a sua chegada de Spike,seu irmão. Esta história foi adaptada à animação com o nome: \"O Snoopy vai casar, Charlie Brown\" (Snoopy\\'s Getting Married, Charlie Brown,nesta animação,a cadela aparece .\\n Snoopy odeia qualquer coisa com coco e biscoitos, tem claustrofobia, e tem um medo mortal dos pedaços de gelo que balançam em cima da sua casa durante o inverno, que é muito maior por dentro do que o que parece por fora (o sótão é suficientemente grande para ter uma piscina, os quadros mencionados acima e uma TV).\\n Snoopy é bilingue, pois compreende um pouco de francês. A sua comida de cão chama-se \"para cães que voaram na primeira guerra mundial e compreendem um pouco de francês\". Ele fracassou no seu curso de geometria, que era sua desculpa para não poder seguir o curso de golfe.\\n Snoopy tem também a sua própria dança, que se chama a Dança do Snoopy\\n O sucesso dos quadrinhos resultou no lançamento de uma série de TV. A seguir, a lista dos episódios já produzidos.\\n Ao longo dos anos, foi revelado que Snoopy nasceu e foi criado na fazenda de cães Daisy Hill  . Seu pai costumava correr com os cães de caça, mas secretamente corria na frente e avisava os coelhos. Sua mãe é famosa por seu pudim de tapioca, e em uma tira Peanuts de 1990, veio em um I-era troopship  para visitar Snoopy e Spike, que estava doente com a gripe.\\n De todos os seus irmãos, o irmão de Snoopy, Olaf foi o último a ser vendido. Antes de serem vendidos, Snoopy e seus irmãos e irmãs formavam uma banda e um por um, cada um foi vendido. A dona original do Snoopy era uma menina chamada Laila, que teve que devolvê-lo à Daisy Hill depois que sua família se mudou para um hotel onde era proibido cães.\\nLogo após seu retorno para a fazenda, Snoopy foi escolhido pelos pais de Charlie Brown como um companheiro para ele. Na faixa de 30 de janeiro de 1972, Charlie Brown diz que seus pais compraram Snoopy   para animá-lo depois que outra criança jogou areia em seu rosto, enquanto eles estavam brincando na caixa de areia. Em  novembro de 1972, enquanto acompanhava Woodstock em sua migração de inverno, Snoopy percebe que ele está perto da fazenda Daisy Hill  . Ele decide mostrar a Woodstock onde ele nasceu, apenas para descobrir que a fazenda  foi substituída por um prédio de seis andares, fazendo Snoopy a chorar, \"Vocês, pessoas estúpidas! Vocês estão estacionando na minha memória!\" (24 Novembro, 1972). Isso se reflete também em no desenho \"Snoopy\\'s Reunion\", onde Snoopy e seus irmãos se reúnem na fazenda Daisy Hill para um piquenique, mas, infelizmente, descobrem que ela foi demolida .\\nSnoopy é geralmente descrito como tendo sete irmãos, cinco dos quais aparecem em algum momento na faixa: Andy, Belle, Marbles, Olaf, e Spike. Na maioria das vezes é visto Spike, que vive no deserto (perto da localidade da vida real de Needles, Califórnia). Compartilhando o gosto de Snoopy para uma vida de fantasia, ele é amigo de  cactos. Spike é muito magro, usa um chapéu e tem longos bigodes. (Spike era o nome de um dos cães  da infância de Schulz.)\\nAndy parece uma versão descabelada de Snoopy. Olaf, que usa um gorro de pele, é redondo no corpo e na face. Marbles é o mais inteligente do grupo. Ele tem manchas na sua pele (fazendo-o parecer um pouco com um dálmata), usa sapatos, e considera alguns dos comportamentos de Snoopy muito estranhos. Belle, que se parece com Snoopy com orelhas longas, é mais notável que havia um bicho de pelúcia da Belle disponível por muitos anos.\\nEmbora Snoopy frequentemente menciona que ele foi um dos oito filhotes, os dois outros irmãos jamais apareceram na história em quadrinhos. De acordo com o especial animado Snoopy\\'s Reunion, eles são chamados de Molly e Rover. Todos eles formavam  uma banda , com Snoopy na guitarra acústica.\\nEm uma tira de 1965, Snoopy criou uma \"reunião de família\", e afirmou-se que ele tinha dois irmãos (um deles morava em Washington e outra no Texas) e três irmãs (uma em St.Louis, uma em Hollywood eo último em Kansas). Após a reunião, Snoopy estava aparentemente desapontado, para imediatamente depois de chegar em casa, ele declarar: \"A antecipação ultrapassou em muito o evento real.\"\\nMuitos anos antes de seus irmãos aparecerem, Snoopy referiu a si mesmo como \"um só cão\" que não tinha irmãos ou irmãs.\\nAssim como Snoopy, os pensamentos de seus irmãos são comunicados via balão de pensamento.\\n Snoopy, Come Home! (no Brasil: Snoopy, Volte para Casa!, Volte para Casa, Snoopy! ou Snoopy, Volte ao Lar) é um filme estadunidense de animação musical do gênero comédia dramática de 1972, dirigido por Bill Melendez e escrito por Charles M. Schulz baseado na tira em quadrinhos Peanuts.[3]\\n Trata-se do segundo filme longa metragem para os cinemas baseado nas tiras originais de Schulz, sucedendo A Boy Named Charlie Brown (1969). O filme acompanha o beagle Snoopy que deixa o seu dono Charlie Brown para visitar sua antiga dona, deixando Brown preocupado com a situação, fazendo-o repensar sobre algumas de suas atitudes arrogantes para com o cãozinho; o filme marcou a estreia no cinema do personagem Woodstock, que já marcava presença nas HQs dos Peanuts desde 1967.\\n O filme teve a trilha sonora composta por Don Ralke, com as canções e letras concebidas por Robert B. Sherman e Richard M. Sherman, dois irmãos compositores que já trabalharam juntos em alguns filmes da Disney como Mary Poppins (1964), The Jungle Book (1967) e Bedknobs and Broomsticks (1971). Produzido pela Cinema Center Films (sendo a última produção desse estúdio), Lee Mendelson/Bill Melendez Productions e Sopwith Productions, foi lançado nos cinemas americanos em 9 de agosto de 1972 pela National General Pictures. Apesar de receber críticas amplamente positivas, Snoopy, Come Home! foi um fracasso de bilheteria, arrecadando apenas US$ 245.073 contra um orçamento de produção de mais de US$ 1 milhão.[4]\\n O cãozinho beagle Snoopy vive uma vida relativamente tranquila com seu dono Charlie Brown, indo costumeiramente à praia com sua amiga Patty Pimentinha onde brincam e nadam na água do mar alegremente. Contudo, sua vida livre causa irritação em Charlie Brown que percebe que Snoopy está cada vez mais se tornando \"independente\", saindo e voltando para casa no horário que quiser enquanto Charlie Brown prepara seu jantar todos os dias cada vez mais furioso com isso. Um dia, Snoopy é barrado de entrar na praia por conta de uma nova restrição que proibia cães no local, fazendo-o escrever uma carta para o seu \"editor\" reclamando sobre a restrição; Patty, que havia marcado de fazer um piquenique com Snoopy na praia, pensa que o cãozinho \"deu-lhe um bolo\" e se enfurece.\\n Em outra situação, Snoopy acompanha Charlie Brown e sua irmã Sally em uma biblioteca. Contudo, o cãozinho é expulso por conta do local também não permitir a entrada de cães. Ao voltar para casa, Snoopy cria uma briga com Linus por ter tentado lhe tomar o seu cobertor. Após isso, Snoopy encontra Lucy treinando boxe e ela o convida para uma peleja; após uma intensa luta, Snoopy a beija no rosto e ela responde jogando uma de suas luvas no cachorro.\\n Enquanto isso, num hospital longe dali, uma garotinha chamada Lila está internada e escreve uma carta para Snoopy. Quando este a recebe ele imediatamente prepara suas malas e chama seu amigo, o passarinho Woodstock, para acompanha-lo numa longa viagem; Charlie Brown fica cada vez mais confuso e passa a se questionar o que levou o cachorro a ir embora. Durante a viagem, Snoopy e Woodstock tentam viajar de ônibus, mas o cão é chutado pra fora do veículo, mais uma vez por conta de uma proibição contra cães. Eles então passam a viajar a pé e encontram uma garotinha que adota os dois compulsoriamente, prendendo Snoopy em uma coleira no quintal e Woodstock em uma gaiola em seu quarto; após um tempo sofrendo com as brincadeiras abusivas da menina, os dois conseguem fugir, retomando a viagem. Naquela noite, eles param para descansar numa floresta onde jantam e dormem num ninho preparado por Woodstock.\\n Charlie Brown fica cada vez mais preocupado com Snoopy, apesar dos esforços de seus amigos em tentar reanima-lo. Após perguntar a Charlie Brown como ele conheceu Snoopy, Linus decide telefonar para o cuidador de filhotes da fazenda Daisy Hill, onde Charlie adotou Snoopy, para questionar o passado do animal. Linus descobre que, antes de Charlie Brown pegar Snoopy, o cãozinho já tinha sido adotado anteriormente por uma menina chamada Lila, mas quando sua família teve que se mudar eles decidiram devolver Snoopy à fazenda. Linus conta a Charlie tudo o que descobriu e supõe que Snoopy foi morar com Lila por ela estar doente no hospital. Após saberem disso, Charlie Brown e seus amigos passam a se culpar por terem brigado com o cãozinho, o que poderia ter servido como um estímulo para Snoopy ter os deixado.\\n Snoopy e Woodstock finalmente chegam no hospital, mas se deparam com um novo aviso que proíbe não só a entrada de cães como também de pássaros. Após uma primeira tentativa de Snoopy entrar disfarçado de médico ser frustrada eles conseguem adentrar no quarto de Lila sorrateiramente. Snoopy e Lila finalmente se reencontram e o cão passa a fazer companhia para a menina, embora ainda precise se esconder dos enfermeiros. Com o passar dos dias, o quadro de Lila melhora significativamente e ela o chama para morar de volta com ela; inicialmente o animal recusa, mas após ver o sofrimento dela Snoopy relutantemente concorda. Vendo que o cachorro ainda está apegado com seu atual dono, Lila permite que Snoopy volte para casa para se despedir de seus amigos e depois vir morar com ela assim que a menina receber alta.\\n Quando o cão volta para casa, Charlie Brown o avista escrevendo uma carta em sua máquina de escrever e corre para recepciona-lo, mas Snoopy lhe entrega a carta onde avisa que irá embora para sempre, decidindo ficar com Lila. Na carta, Snoopy agradece o carinho de seus amigos lhe deixando alguns de seus pertences como um bastão de croquet e um jogo de xadrez para Linus e sua coleção de discos para Schroeder. As crianças então dão uma grande e chorosa festa de despedida para Snoopy, cada uma trazendo um presente (que acabam sendo somente ossos). Durante um discurso final, as crianças mais próximas de Snoopy se oferecem para dizer algumas palavras em sua homenagem; ao chegar a vez de Charlie Brown, este apenas chora desesperadamente. No dia de sua partida, Snoopy disponibiliza sua casinha de cachorro para venda ou aluguel, se despede de Woodstock e dá um último abraço em Charlie Brown. Depois que Snoopy vai embora, Charlie Brown não consegue mais dormir nem comer de tamanha saudades.\\n Quando Snoopy chega ao prédio de Lila no dia seguinte, ele vê uma placa de aviso ao lado da porta da frente que proíbe cães no edifício. Isso causa uma grande felicidade para Snoopy pois agora ele tem uma desculpa para voltar para Charlie Brown. Quando Lila desce para recebe-lo Snoopy mostra o aviso à menina, que não sabia da proibição de cães no local. Lila não tem outra escolha a não ser permitir que Snoopy vá embora. Ele retorna alegremente para a casa de Charlie Brown, sendo avistado por Woodstock que o recepciona euforicamente. De volta para casa, as crianças ficam radiantes ao ver o retorno de Snoopy, carregando-o de volta para sua casinha de cachorro no quintal de Charlie Brown. Chegando lá, usando sua máquina de escrever, Snoopy exige que as crianças devolvam os pertences que ele lhes deu anteriormente. A turma, irritada com isso, deixa Charlie Brown e Snoopy sozinhos. Charlie Brown posteriormente também se afasta irritado, enquanto os créditos finais são datilografados por Woodstock e ditados por Snoopy.\\n Snoopy, Come Home! marcou a primeira vez que os pensamentos de Snoopy são totalmente comunicados ao público fora das histórias em quadrinhos. Isso foi conseguido fazendo com que suas falas fossem digitadas na sua máquina de escrever para aparecerem na parte de cima da tela, dando ao espectador acesso total aos seus pensamentos. Quando Snoopy não estava com o equipamento em cena, Schulz optou por silenciar totalmente o personagem, exceto por alguns grunhidos e rosnados flexionados. Os balões de pensamento de Snoopy, embora frequentes nas tiras originais, não foram utilizados ou dublados nos projetos animados.\\n O filme foi o único projeto de animação dos Peanuts produzido durante a vida de Vince Guaraldi (1928–1976) que não continha uma partitura musical do famoso compositor de jazz. Guaraldi havia composto as trilhas de todos os especiais de animação anteriores dos personagens de Schulz para a televisão, bem como no filme anterior A Boy Named Charlie Brown, que marcou a estreia dos personagens nos cinemas.\\n A música para este filme foi fornecida pelos irmãos Sherman, Richard e Robert, então famosos por terem contribuído em projetos anteriores da Disney. Schulz disse que isso era um experimento, já que ele queria dar uma sensação mais comercial de \"Disney\" para Snoopy, Come Home!. Em 2011, o produtor Lee Mendelson declarou: \"Todos acharam que o primeiro filme tinha a mesma \\'sensação\\' dos especiais de TV [...] Nós coletivamente concordamos que esse filme deveria ter uma \\'aparência\\' e trilha sonora mais familiar a um longa-metragem. É por isso que fomos atrás dos Shermans, que na época eram os melhores em sua área para essas coisas\".[5]\\n \\nSchulz disse mais tarde que planejava utilizar os serviços de Guaraldi para o terceiro filme dos Peanuts, Race for Your Life, Charlie Brown, caso o compositor não tivesse morrido repentinamente em fevereiro de 1976 de ataque cardíaco.[6] Um álbum de trilha sonora do filme foi lançado pela Columbia Masterworks.Todas as faixas escritas e compostas por Robert B. Sherman e Richard M. Sherman.\\xa0 Após ser produzido pelos estúdios Lee Mendelson Film Productions, Bill Melendez Productions (sem créditos de direitos autorais), Sopwith Productions e Cinema Center Films (marcando a última produção deste), o filme foi lançado em 9 de agosto de 1972 nos Estados Unidos pela extinta distribuidora National General Pictures.\\n Foi televisionado pela primeira vez em 5 de novembro de 1976, através de uma exibição especial da CBS.\\n No Brasil, o filme recebeu pelo menos três títulos: Snoopy, Volte para Casa! (dublado pela S&C São Paulo),[7] Volte para Casa, Snoopy! (dublado pela Mastersound)[8] e Snoopy, Volte ao Lar.[carece\\xa0de fontes?]\\n Snoopy, Come Home! arrecadou US$ 245.073 de bilheteria contra um orçamento de US$ 1 milhão, se tornando um fracasso comercial.\\n Segundo dados de setembro de 2020, o filme teve uma avaliação de 93% no site de resenhas cinematográficas Rotten Tomatoes, com base em 14 comentários obtendo uma nota média de 7,70/10.[4] O jornal The New York Times declarou: \"Este deleite alegre, inteligente e hilário - tudo o que uma história em quadrinhos poderia oferecer para os cinemas - é ainda melhor do que A Boy Named Charlie Brown, que deu início à saga dos Peanuts nas telonas\".[9]\\n O filme foi lançado nos formatos CED, LaserDisc e VHS em 1984, 1985 e 1992, respectivamente. Em 1995, o filme foi relançado em VHS pela 20th Century Fox Home Entertainment, seguido por um segundo relançamento em 29 de maio de 2001 junto com um DVD em widescreen anamórfico pela Paramount Home Entertainment. Em 2006, o filme foi relançado em DVD em 28 de março daquele ano através de uma parceria entre a Paramount Home Entertainment e a CBS Home Entertainment (que absorveu a antiga Cinema Center Films, que co-produziu o filme nos anos 70). Em novembro de 2016, Snoopy, Come Home! foi disponibilizado pela primeira vez em Blu-ray junto com A Boy Named Charlie Brown.[10]\\n Snoopy in Space (bra/prt: Snoopy no Espaço) é uma série de televisão canadense-americana com streaming de animação em flash inspirada nos quadrinhos Peanuts, de Charles M. Schulz. Produzido pela DHX Media, o programa estreou em 1º de novembro de 2019 na Apple TV+.[1]\\n The Snoopy Show (Brasil: Snoopy e Sua Turma / Portugal: O Mundo do Snoopy) é uma série de televisão canadense-americana com streaming de animação em flash inspirada nos quadrinhos Peanuts, de Charles M. Schulz. Produzido pela DHX Media, o programa será lançado em 5 de fevereiro de 2021 na Apple TV+.\\n The Charlie Brown and Snoopy Show (A Turma do Charlie Brown ou O Programa de Charlie Brown e Snoopy no Brasil e O Espetáculo do Charlie Brown e do Snoopy em Portugal), também conhecida como Peanuts, é  uma série de televisão estadunidense baseada na série de banda desenhada de mesmo nome.[1]\\n Charlie Brown, é um menino generoso, de bom coração, mas tímido e desastrado, sempre apaixonado pela menina ruiva que nunca lhe dá atenção...\\n Snoopy, não é um cão de verdade, mas sim uma imagem do que as pessoas queriam que fosse um cão. Ele joga basebol, ténis, golfe, vê televisão e adora biscoitos de chocolate.\\n Lucy, mandona e egoísta, resolve tudo a gritar e arruina qualquer um com os seus comentários sarcásticos e desagradáveis.\\n Linus, é o irmão mais novo de Lucy e o melhor amigo de Charlie Brown. Tem um sério problema emocional e não larga o seu cobertor azul.\\n Shroeder, adorado por Lucy, é o artista do grupo. No seu pianinho de brincar ele executa grandes obras do seu ídolo Beethoven...\\n Eles e o seu grupo de amigos vivem as mais desconcertantes aventuras, que irão fazer as delícias de pequenos e graúdos...\\n Snoopy, Charlie Brown, Linus... eles são os \"Peanuts\", as personagens de animação mais famosas e populares do mundo inteiro!\\n \\n '"
            ],
            "application/vnd.google.colaboratory.intrinsic+json": {
              "type": "string"
            }
          },
          "metadata": {},
          "execution_count": 11
        }
      ]
    },
    {
      "cell_type": "code",
      "source": [
        "conteudo = conteudo.lower()\n",
        "conteudo"
      ],
      "metadata": {
        "colab": {
          "base_uri": "https://localhost:8080/",
          "height": 105
        },
        "id": "GAAUXiKx3PRN",
        "outputId": "d0b02260-e72f-49ec-f088-b7ea5654d9fb"
      },
      "execution_count": null,
      "outputs": [
        {
          "output_type": "execute_result",
          "data": {
            "text/plain": [
              "'snoopy é o beagle[1] de estimação de charlie brown na tira em quadrinhos peanuts, criada por charles schulz.\\n snoopy aparece pela primeira vez em 4 de outubro de 1950. embora a primeira tirinha tenha sido apresentada em 2 de outubro do mesmo ano. schulz originalmente ia chamar o cão de \"sniffy\",  até que descobriu que esse nome já era usado em outra tirinha . snoopy foi durante dois anos uma figura silenciosa, agindo como um cão real (caminhava sobre as quatro patas), mas, em 19 de outubro de 1952, ele verbalizou os seus pensamentos aos leitores pela primeira vez através de balões; snoopy tinha também a capacidade de entender tudo o que as restantes personagens dos peanuts, com quem interagia, diziam. schulz, após esta data, passou a incluir essas características na sua banda desenhada.\\n snoopy é um cão extrovertido com complexo de walter mitty, com muitas virtudes. a maior parte delas não são reais, mas sonhos que fazem parte do seu mundo de fantasia, que aparecem quando snoopy dorme no telhado da sua casota.\\n muitos dos momentos memoráveis dos \"peanuts\" ocorreram durante esses sonhos nos quais ele era um escritor: o seu eterno abrir da mala onde está a máquina de escrever. \"estava uma escura e tempestuosa noite...\" foi tirado de uma história de edward george bulwer-lytton escrita em 1830 chamada paul clifford. o contraste entre a existência de snoopy no mundo dos sonhos e de charlie brown no mundo real é o centro do humor e da filosofia de peanuts (ver ex: título de um livro: \"a vida é um sonho, charlie brown\").\\n schulz, numa entrevista em 1997, disse o seguinte acerca do carácter do snoopy: \"ele tem que sair do seu mundo de fantasia para sobreviver. por outro lado, se assim fosse ele levaria uma vida miserável e aborrecida.\"\\n um dos primeiros desenvolvimentos do personagem de snoopy foi a sua tendência para dormir no telhado da sua casa, em vez de dentro dela. depois, snoopy passou a andar apenas com duas pernas como um humano. isso rapidamente se tornou tão comum que quase não se notou quando snoopy começou a revelar uma variedade de alter egos, a personalidade mais notável é a do piloto da primeira guerra mundial. para compor esta faceta, ele põe os seus óculos de aviador, o seu capacete e voa no seu sopwith camel (na verdade, a sua casota), lutando contra manfred von richthofen (o barão vermelho), que aparece indiretamente representado pelas balas que atingem a sua casota.\\n snoopy também se torna \"joe cool\" quando põe os óculos de sol e se encosta na parede sem fazer nada. ele tem também uma personalidade em que é um escritor famoso (que na realidade chegou a publicar uma vez, numa história de outubro de 1995, na qual uma cópia da sua obra sem nome foi escrita, mas resultou num fracasso de vendas), um advogado (que uma vez defendeu peter rabbit), um jogador de hóquei no gelo, um patinador olímpico (patinando com sonja henie), o \"beagle solitário\" (o primeiro cão a voar sozinho sobre o atlântico) e também o primeiro astronauta a chegar à lua.\\n fora do seu mundo de fantasia, ele é o shortstop na pequena equipe de baseball do charlie brown (e também o melhor jogador, quase batendo o recorde de babe ruth de 714 home runs antes de hank aaron), e até tinha um van gogh, mais tarde substituído por um andrew wyeth depois de a sua primeira casa ter incendiado. snoopy é também um \"escoteiro beagle\" (beagle scout), a versão dos \"peanuts\" do \"eagle scout\" e é o líder de uma tropa que é constituida por woodstock e por outros pássaros seus amigos. este tema aparece ao longo de toda a banda desenhada. outras personalidades que snoopy apresenta são: o \"flashbeagle\", o \"vulture\", e o \"legionário estrangeiro\".\\n a exceção do seu dono, charlie brown, o melhor amigo de snoopy é o pequeno pássaro amarelo woodstock, que apenas \"fala\" em marcas da apóstrofe. o seu arquinimigo (além manfred von richthofen) é o invisível \"gato estúpido da porta ao lado\" (também chamado \"terceira guerra mundial\"). durante uma série das séries diárias,snoopy antagonizou o gato a cada dia, e a pata do gato fazia movimentos gigantes que dizimavam a casinha recém-construída de snoopy numa extensão maior que no dia anterior. de facto, o snoopy não gostava de gatos em geral, comentando que eles eram \"as ervas daninhas no gramado da vida\" (\"the crab grass on the lawn of life\") e ficando ofendido com a expressão \"gatos e cães\", insistindo que a expressão correta deve ser \"cães e gatos\".\\n charlie brown é o dono do snoopy (embora este seja um cão perdido que charlie brown adota), mas a relação entre eles não era como mestre e servo. o tormento de charlie brown, lucy, uma vez exigiu saber quando é que ele levaria snoopy a aulas de adestramento. snoopy pergunta-se até que ponto charlie brown faria tudo o que ele quisesse.\\n por um tempo, em 1977, snoopy ficou prometido a uma cadela que nunca apareceu, que ele conheceu enquanto guardava a casa da patty pimentinha. mas, ela fugiu com outro cachorro, e mais tarde viu-se a sua chegada de spike,seu irmão. esta história foi adaptada à animação com o nome: \"o snoopy vai casar, charlie brown\" (snoopy\\'s getting married, charlie brown,nesta animação,a cadela aparece .\\n snoopy odeia qualquer coisa com coco e biscoitos, tem claustrofobia, e tem um medo mortal dos pedaços de gelo que balançam em cima da sua casa durante o inverno, que é muito maior por dentro do que o que parece por fora (o sótão é suficientemente grande para ter uma piscina, os quadros mencionados acima e uma tv).\\n snoopy é bilingue, pois compreende um pouco de francês. a sua comida de cão chama-se \"para cães que voaram na primeira guerra mundial e compreendem um pouco de francês\". ele fracassou no seu curso de geometria, que era sua desculpa para não poder seguir o curso de golfe.\\n snoopy tem também a sua própria dança, que se chama a dança do snoopy\\n o sucesso dos quadrinhos resultou no lançamento de uma série de tv. a seguir, a lista dos episódios já produzidos.\\n ao longo dos anos, foi revelado que snoopy nasceu e foi criado na fazenda de cães daisy hill  . seu pai costumava correr com os cães de caça, mas secretamente corria na frente e avisava os coelhos. sua mãe é famosa por seu pudim de tapioca, e em uma tira peanuts de 1990, veio em um i-era troopship  para visitar snoopy e spike, que estava doente com a gripe.\\n de todos os seus irmãos, o irmão de snoopy, olaf foi o último a ser vendido. antes de serem vendidos, snoopy e seus irmãos e irmãs formavam uma banda e um por um, cada um foi vendido. a dona original do snoopy era uma menina chamada laila, que teve que devolvê-lo à daisy hill depois que sua família se mudou para um hotel onde era proibido cães.\\nlogo após seu retorno para a fazenda, snoopy foi escolhido pelos pais de charlie brown como um companheiro para ele. na faixa de 30 de janeiro de 1972, charlie brown diz que seus pais compraram snoopy   para animá-lo depois que outra criança jogou areia em seu rosto, enquanto eles estavam brincando na caixa de areia. em  novembro de 1972, enquanto acompanhava woodstock em sua migração de inverno, snoopy percebe que ele está perto da fazenda daisy hill  . ele decide mostrar a woodstock onde ele nasceu, apenas para descobrir que a fazenda  foi substituída por um prédio de seis andares, fazendo snoopy a chorar, \"vocês, pessoas estúpidas! vocês estão estacionando na minha memória!\" (24 novembro, 1972). isso se reflete também em no desenho \"snoopy\\'s reunion\", onde snoopy e seus irmãos se reúnem na fazenda daisy hill para um piquenique, mas, infelizmente, descobrem que ela foi demolida .\\nsnoopy é geralmente descrito como tendo sete irmãos, cinco dos quais aparecem em algum momento na faixa: andy, belle, marbles, olaf, e spike. na maioria das vezes é visto spike, que vive no deserto (perto da localidade da vida real de needles, califórnia). compartilhando o gosto de snoopy para uma vida de fantasia, ele é amigo de  cactos. spike é muito magro, usa um chapéu e tem longos bigodes. (spike era o nome de um dos cães  da infância de schulz.)\\nandy parece uma versão descabelada de snoopy. olaf, que usa um gorro de pele, é redondo no corpo e na face. marbles é o mais inteligente do grupo. ele tem manchas na sua pele (fazendo-o parecer um pouco com um dálmata), usa sapatos, e considera alguns dos comportamentos de snoopy muito estranhos. belle, que se parece com snoopy com orelhas longas, é mais notável que havia um bicho de pelúcia da belle disponível por muitos anos.\\nembora snoopy frequentemente menciona que ele foi um dos oito filhotes, os dois outros irmãos jamais apareceram na história em quadrinhos. de acordo com o especial animado snoopy\\'s reunion, eles são chamados de molly e rover. todos eles formavam  uma banda , com snoopy na guitarra acústica.\\nem uma tira de 1965, snoopy criou uma \"reunião de família\", e afirmou-se que ele tinha dois irmãos (um deles morava em washington e outra no texas) e três irmãs (uma em st.louis, uma em hollywood eo último em kansas). após a reunião, snoopy estava aparentemente desapontado, para imediatamente depois de chegar em casa, ele declarar: \"a antecipação ultrapassou em muito o evento real.\"\\nmuitos anos antes de seus irmãos aparecerem, snoopy referiu a si mesmo como \"um só cão\" que não tinha irmãos ou irmãs.\\nassim como snoopy, os pensamentos de seus irmãos são comunicados via balão de pensamento.\\n snoopy, come home! (no brasil: snoopy, volte para casa!, volte para casa, snoopy! ou snoopy, volte ao lar) é um filme estadunidense de animação musical do gênero comédia dramática de 1972, dirigido por bill melendez e escrito por charles m. schulz baseado na tira em quadrinhos peanuts.[3]\\n trata-se do segundo filme longa metragem para os cinemas baseado nas tiras originais de schulz, sucedendo a boy named charlie brown (1969). o filme acompanha o beagle snoopy que deixa o seu dono charlie brown para visitar sua antiga dona, deixando brown preocupado com a situação, fazendo-o repensar sobre algumas de suas atitudes arrogantes para com o cãozinho; o filme marcou a estreia no cinema do personagem woodstock, que já marcava presença nas hqs dos peanuts desde 1967.\\n o filme teve a trilha sonora composta por don ralke, com as canções e letras concebidas por robert b. sherman e richard m. sherman, dois irmãos compositores que já trabalharam juntos em alguns filmes da disney como mary poppins (1964), the jungle book (1967) e bedknobs and broomsticks (1971). produzido pela cinema center films (sendo a última produção desse estúdio), lee mendelson/bill melendez productions e sopwith productions, foi lançado nos cinemas americanos em 9 de agosto de 1972 pela national general pictures. apesar de receber críticas amplamente positivas, snoopy, come home! foi um fracasso de bilheteria, arrecadando apenas us$ 245.073 contra um orçamento de produção de mais de us$ 1 milhão.[4]\\n o cãozinho beagle snoopy vive uma vida relativamente tranquila com seu dono charlie brown, indo costumeiramente à praia com sua amiga patty pimentinha onde brincam e nadam na água do mar alegremente. contudo, sua vida livre causa irritação em charlie brown que percebe que snoopy está cada vez mais se tornando \"independente\", saindo e voltando para casa no horário que quiser enquanto charlie brown prepara seu jantar todos os dias cada vez mais furioso com isso. um dia, snoopy é barrado de entrar na praia por conta de uma nova restrição que proibia cães no local, fazendo-o escrever uma carta para o seu \"editor\" reclamando sobre a restrição; patty, que havia marcado de fazer um piquenique com snoopy na praia, pensa que o cãozinho \"deu-lhe um bolo\" e se enfurece.\\n em outra situação, snoopy acompanha charlie brown e sua irmã sally em uma biblioteca. contudo, o cãozinho é expulso por conta do local também não permitir a entrada de cães. ao voltar para casa, snoopy cria uma briga com linus por ter tentado lhe tomar o seu cobertor. após isso, snoopy encontra lucy treinando boxe e ela o convida para uma peleja; após uma intensa luta, snoopy a beija no rosto e ela responde jogando uma de suas luvas no cachorro.\\n enquanto isso, num hospital longe dali, uma garotinha chamada lila está internada e escreve uma carta para snoopy. quando este a recebe ele imediatamente prepara suas malas e chama seu amigo, o passarinho woodstock, para acompanha-lo numa longa viagem; charlie brown fica cada vez mais confuso e passa a se questionar o que levou o cachorro a ir embora. durante a viagem, snoopy e woodstock tentam viajar de ônibus, mas o cão é chutado pra fora do veículo, mais uma vez por conta de uma proibição contra cães. eles então passam a viajar a pé e encontram uma garotinha que adota os dois compulsoriamente, prendendo snoopy em uma coleira no quintal e woodstock em uma gaiola em seu quarto; após um tempo sofrendo com as brincadeiras abusivas da menina, os dois conseguem fugir, retomando a viagem. naquela noite, eles param para descansar numa floresta onde jantam e dormem num ninho preparado por woodstock.\\n charlie brown fica cada vez mais preocupado com snoopy, apesar dos esforços de seus amigos em tentar reanima-lo. após perguntar a charlie brown como ele conheceu snoopy, linus decide telefonar para o cuidador de filhotes da fazenda daisy hill, onde charlie adotou snoopy, para questionar o passado do animal. linus descobre que, antes de charlie brown pegar snoopy, o cãozinho já tinha sido adotado anteriormente por uma menina chamada lila, mas quando sua família teve que se mudar eles decidiram devolver snoopy à fazenda. linus conta a charlie tudo o que descobriu e supõe que snoopy foi morar com lila por ela estar doente no hospital. após saberem disso, charlie brown e seus amigos passam a se culpar por terem brigado com o cãozinho, o que poderia ter servido como um estímulo para snoopy ter os deixado.\\n snoopy e woodstock finalmente chegam no hospital, mas se deparam com um novo aviso que proíbe não só a entrada de cães como também de pássaros. após uma primeira tentativa de snoopy entrar disfarçado de médico ser frustrada eles conseguem adentrar no quarto de lila sorrateiramente. snoopy e lila finalmente se reencontram e o cão passa a fazer companhia para a menina, embora ainda precise se esconder dos enfermeiros. com o passar dos dias, o quadro de lila melhora significativamente e ela o chama para morar de volta com ela; inicialmente o animal recusa, mas após ver o sofrimento dela snoopy relutantemente concorda. vendo que o cachorro ainda está apegado com seu atual dono, lila permite que snoopy volte para casa para se despedir de seus amigos e depois vir morar com ela assim que a menina receber alta.\\n quando o cão volta para casa, charlie brown o avista escrevendo uma carta em sua máquina de escrever e corre para recepciona-lo, mas snoopy lhe entrega a carta onde avisa que irá embora para sempre, decidindo ficar com lila. na carta, snoopy agradece o carinho de seus amigos lhe deixando alguns de seus pertences como um bastão de croquet e um jogo de xadrez para linus e sua coleção de discos para schroeder. as crianças então dão uma grande e chorosa festa de despedida para snoopy, cada uma trazendo um presente (que acabam sendo somente ossos). durante um discurso final, as crianças mais próximas de snoopy se oferecem para dizer algumas palavras em sua homenagem; ao chegar a vez de charlie brown, este apenas chora desesperadamente. no dia de sua partida, snoopy disponibiliza sua casinha de cachorro para venda ou aluguel, se despede de woodstock e dá um último abraço em charlie brown. depois que snoopy vai embora, charlie brown não consegue mais dormir nem comer de tamanha saudades.\\n quando snoopy chega ao prédio de lila no dia seguinte, ele vê uma placa de aviso ao lado da porta da frente que proíbe cães no edifício. isso causa uma grande felicidade para snoopy pois agora ele tem uma desculpa para voltar para charlie brown. quando lila desce para recebe-lo snoopy mostra o aviso à menina, que não sabia da proibição de cães no local. lila não tem outra escolha a não ser permitir que snoopy vá embora. ele retorna alegremente para a casa de charlie brown, sendo avistado por woodstock que o recepciona euforicamente. de volta para casa, as crianças ficam radiantes ao ver o retorno de snoopy, carregando-o de volta para sua casinha de cachorro no quintal de charlie brown. chegando lá, usando sua máquina de escrever, snoopy exige que as crianças devolvam os pertences que ele lhes deu anteriormente. a turma, irritada com isso, deixa charlie brown e snoopy sozinhos. charlie brown posteriormente também se afasta irritado, enquanto os créditos finais são datilografados por woodstock e ditados por snoopy.\\n snoopy, come home! marcou a primeira vez que os pensamentos de snoopy são totalmente comunicados ao público fora das histórias em quadrinhos. isso foi conseguido fazendo com que suas falas fossem digitadas na sua máquina de escrever para aparecerem na parte de cima da tela, dando ao espectador acesso total aos seus pensamentos. quando snoopy não estava com o equipamento em cena, schulz optou por silenciar totalmente o personagem, exceto por alguns grunhidos e rosnados flexionados. os balões de pensamento de snoopy, embora frequentes nas tiras originais, não foram utilizados ou dublados nos projetos animados.\\n o filme foi o único projeto de animação dos peanuts produzido durante a vida de vince guaraldi (1928–1976) que não continha uma partitura musical do famoso compositor de jazz. guaraldi havia composto as trilhas de todos os especiais de animação anteriores dos personagens de schulz para a televisão, bem como no filme anterior a boy named charlie brown, que marcou a estreia dos personagens nos cinemas.\\n a música para este filme foi fornecida pelos irmãos sherman, richard e robert, então famosos por terem contribuído em projetos anteriores da disney. schulz disse que isso era um experimento, já que ele queria dar uma sensação mais comercial de \"disney\" para snoopy, come home!. em 2011, o produtor lee mendelson declarou: \"todos acharam que o primeiro filme tinha a mesma \\'sensação\\' dos especiais de tv [...] nós coletivamente concordamos que esse filme deveria ter uma \\'aparência\\' e trilha sonora mais familiar a um longa-metragem. é por isso que fomos atrás dos shermans, que na época eram os melhores em sua área para essas coisas\".[5]\\n \\nschulz disse mais tarde que planejava utilizar os serviços de guaraldi para o terceiro filme dos peanuts, race for your life, charlie brown, caso o compositor não tivesse morrido repentinamente em fevereiro de 1976 de ataque cardíaco.[6] um álbum de trilha sonora do filme foi lançado pela columbia masterworks.todas as faixas escritas e compostas por robert b. sherman e richard m. sherman.\\xa0 após ser produzido pelos estúdios lee mendelson film productions, bill melendez productions (sem créditos de direitos autorais), sopwith productions e cinema center films (marcando a última produção deste), o filme foi lançado em 9 de agosto de 1972 nos estados unidos pela extinta distribuidora national general pictures.\\n foi televisionado pela primeira vez em 5 de novembro de 1976, através de uma exibição especial da cbs.\\n no brasil, o filme recebeu pelo menos três títulos: snoopy, volte para casa! (dublado pela s&c são paulo),[7] volte para casa, snoopy! (dublado pela mastersound)[8] e snoopy, volte ao lar.[carece\\xa0de fontes?]\\n snoopy, come home! arrecadou us$ 245.073 de bilheteria contra um orçamento de us$ 1 milhão, se tornando um fracasso comercial.\\n segundo dados de setembro de 2020, o filme teve uma avaliação de 93% no site de resenhas cinematográficas rotten tomatoes, com base em 14 comentários obtendo uma nota média de 7,70/10.[4] o jornal the new york times declarou: \"este deleite alegre, inteligente e hilário - tudo o que uma história em quadrinhos poderia oferecer para os cinemas - é ainda melhor do que a boy named charlie brown, que deu início à saga dos peanuts nas telonas\".[9]\\n o filme foi lançado nos formatos ced, laserdisc e vhs em 1984, 1985 e 1992, respectivamente. em 1995, o filme foi relançado em vhs pela 20th century fox home entertainment, seguido por um segundo relançamento em 29 de maio de 2001 junto com um dvd em widescreen anamórfico pela paramount home entertainment. em 2006, o filme foi relançado em dvd em 28 de março daquele ano através de uma parceria entre a paramount home entertainment e a cbs home entertainment (que absorveu a antiga cinema center films, que co-produziu o filme nos anos 70). em novembro de 2016, snoopy, come home! foi disponibilizado pela primeira vez em blu-ray junto com a boy named charlie brown.[10]\\n snoopy in space (bra/prt: snoopy no espaço) é uma série de televisão canadense-americana com streaming de animação em flash inspirada nos quadrinhos peanuts, de charles m. schulz. produzido pela dhx media, o programa estreou em 1º de novembro de 2019 na apple tv+.[1]\\n the snoopy show (brasil: snoopy e sua turma / portugal: o mundo do snoopy) é uma série de televisão canadense-americana com streaming de animação em flash inspirada nos quadrinhos peanuts, de charles m. schulz. produzido pela dhx media, o programa será lançado em 5 de fevereiro de 2021 na apple tv+.\\n the charlie brown and snoopy show (a turma do charlie brown ou o programa de charlie brown e snoopy no brasil e o espetáculo do charlie brown e do snoopy em portugal), também conhecida como peanuts, é  uma série de televisão estadunidense baseada na série de banda desenhada de mesmo nome.[1]\\n charlie brown, é um menino generoso, de bom coração, mas tímido e desastrado, sempre apaixonado pela menina ruiva que nunca lhe dá atenção...\\n snoopy, não é um cão de verdade, mas sim uma imagem do que as pessoas queriam que fosse um cão. ele joga basebol, ténis, golfe, vê televisão e adora biscoitos de chocolate.\\n lucy, mandona e egoísta, resolve tudo a gritar e arruina qualquer um com os seus comentários sarcásticos e desagradáveis.\\n linus, é o irmão mais novo de lucy e o melhor amigo de charlie brown. tem um sério problema emocional e não larga o seu cobertor azul.\\n shroeder, adorado por lucy, é o artista do grupo. no seu pianinho de brincar ele executa grandes obras do seu ídolo beethoven...\\n eles e o seu grupo de amigos vivem as mais desconcertantes aventuras, que irão fazer as delícias de pequenos e graúdos...\\n snoopy, charlie brown, linus... eles são os \"peanuts\", as personagens de animação mais famosas e populares do mundo inteiro!\\n \\n '"
            ],
            "application/vnd.google.colaboratory.intrinsic+json": {
              "type": "string"
            }
          },
          "metadata": {},
          "execution_count": 12
        }
      ]
    },
    {
      "cell_type": "code",
      "source": [
        "nltk.download('punkt_tab')"
      ],
      "metadata": {
        "colab": {
          "base_uri": "https://localhost:8080/"
        },
        "id": "m1nsgCGv3QjO",
        "outputId": "2dd79799-30e2-4f71-febf-e0802ff760e0"
      },
      "execution_count": null,
      "outputs": [
        {
          "output_type": "stream",
          "name": "stderr",
          "text": [
            "[nltk_data] Downloading package punkt_tab to /root/nltk_data...\n",
            "[nltk_data]   Unzipping tokenizers/punkt_tab.zip.\n"
          ]
        },
        {
          "output_type": "execute_result",
          "data": {
            "text/plain": [
              "True"
            ]
          },
          "metadata": {},
          "execution_count": 13
        }
      ]
    },
    {
      "cell_type": "code",
      "source": [
        "lista_sentencas = nltk.sent_tokenize(conteudo)"
      ],
      "metadata": {
        "id": "AxGLvDuL3Rul"
      },
      "execution_count": null,
      "outputs": []
    },
    {
      "cell_type": "code",
      "source": [
        "lista_sentencas"
      ],
      "metadata": {
        "colab": {
          "base_uri": "https://localhost:8080/"
        },
        "id": "pDcMk1oh3TIn",
        "outputId": "1522f66e-893e-4336-e8fe-c8099e674f99"
      },
      "execution_count": null,
      "outputs": [
        {
          "output_type": "execute_result",
          "data": {
            "text/plain": [
              "['snoopy é o beagle[1] de estimação de charlie brown na tira em quadrinhos peanuts, criada por charles schulz.',\n",
              " 'snoopy aparece pela primeira vez em 4 de outubro de 1950. embora a primeira tirinha tenha sido apresentada em 2 de outubro do mesmo ano.',\n",
              " 'schulz originalmente ia chamar o cão de \"sniffy\",  até que descobriu que esse nome já era usado em outra tirinha .',\n",
              " 'snoopy foi durante dois anos uma figura silenciosa, agindo como um cão real (caminhava sobre as quatro patas), mas, em 19 de outubro de 1952, ele verbalizou os seus pensamentos aos leitores pela primeira vez através de balões; snoopy tinha também a capacidade de entender tudo o que as restantes personagens dos peanuts, com quem interagia, diziam.',\n",
              " 'schulz, após esta data, passou a incluir essas características na sua banda desenhada.',\n",
              " 'snoopy é um cão extrovertido com complexo de walter mitty, com muitas virtudes.',\n",
              " 'a maior parte delas não são reais, mas sonhos que fazem parte do seu mundo de fantasia, que aparecem quando snoopy dorme no telhado da sua casota.',\n",
              " 'muitos dos momentos memoráveis dos \"peanuts\" ocorreram durante esses sonhos nos quais ele era um escritor: o seu eterno abrir da mala onde está a máquina de escrever.',\n",
              " '\"estava uma escura e tempestuosa noite...\" foi tirado de uma história de edward george bulwer-lytton escrita em 1830 chamada paul clifford.',\n",
              " 'o contraste entre a existência de snoopy no mundo dos sonhos e de charlie brown no mundo real é o centro do humor e da filosofia de peanuts (ver ex: título de um livro: \"a vida é um sonho, charlie brown\").',\n",
              " 'schulz, numa entrevista em 1997, disse o seguinte acerca do carácter do snoopy: \"ele tem que sair do seu mundo de fantasia para sobreviver.',\n",
              " 'por outro lado, se assim fosse ele levaria uma vida miserável e aborrecida.\"',\n",
              " 'um dos primeiros desenvolvimentos do personagem de snoopy foi a sua tendência para dormir no telhado da sua casa, em vez de dentro dela.',\n",
              " 'depois, snoopy passou a andar apenas com duas pernas como um humano.',\n",
              " 'isso rapidamente se tornou tão comum que quase não se notou quando snoopy começou a revelar uma variedade de alter egos, a personalidade mais notável é a do piloto da primeira guerra mundial.',\n",
              " 'para compor esta faceta, ele põe os seus óculos de aviador, o seu capacete e voa no seu sopwith camel (na verdade, a sua casota), lutando contra manfred von richthofen (o barão vermelho), que aparece indiretamente representado pelas balas que atingem a sua casota.',\n",
              " 'snoopy também se torna \"joe cool\" quando põe os óculos de sol e se encosta na parede sem fazer nada.',\n",
              " 'ele tem também uma personalidade em que é um escritor famoso (que na realidade chegou a publicar uma vez, numa história de outubro de 1995, na qual uma cópia da sua obra sem nome foi escrita, mas resultou num fracasso de vendas), um advogado (que uma vez defendeu peter rabbit), um jogador de hóquei no gelo, um patinador olímpico (patinando com sonja henie), o \"beagle solitário\" (o primeiro cão a voar sozinho sobre o atlântico) e também o primeiro astronauta a chegar à lua.',\n",
              " 'fora do seu mundo de fantasia, ele é o shortstop na pequena equipe de baseball do charlie brown (e também o melhor jogador, quase batendo o recorde de babe ruth de 714 home runs antes de hank aaron), e até tinha um van gogh, mais tarde substituído por um andrew wyeth depois de a sua primeira casa ter incendiado.',\n",
              " 'snoopy é também um \"escoteiro beagle\" (beagle scout), a versão dos \"peanuts\" do \"eagle scout\" e é o líder de uma tropa que é constituida por woodstock e por outros pássaros seus amigos.',\n",
              " 'este tema aparece ao longo de toda a banda desenhada.',\n",
              " 'outras personalidades que snoopy apresenta são: o \"flashbeagle\", o \"vulture\", e o \"legionário estrangeiro\".',\n",
              " 'a exceção do seu dono, charlie brown, o melhor amigo de snoopy é o pequeno pássaro amarelo woodstock, que apenas \"fala\" em marcas da apóstrofe.',\n",
              " 'o seu arquinimigo (além manfred von richthofen) é o invisível \"gato estúpido da porta ao lado\" (também chamado \"terceira guerra mundial\").',\n",
              " 'durante uma série das séries diárias,snoopy antagonizou o gato a cada dia, e a pata do gato fazia movimentos gigantes que dizimavam a casinha recém-construída de snoopy numa extensão maior que no dia anterior.',\n",
              " 'de facto, o snoopy não gostava de gatos em geral, comentando que eles eram \"as ervas daninhas no gramado da vida\" (\"the crab grass on the lawn of life\") e ficando ofendido com a expressão \"gatos e cães\", insistindo que a expressão correta deve ser \"cães e gatos\".',\n",
              " 'charlie brown é o dono do snoopy (embora este seja um cão perdido que charlie brown adota), mas a relação entre eles não era como mestre e servo.',\n",
              " 'o tormento de charlie brown, lucy, uma vez exigiu saber quando é que ele levaria snoopy a aulas de adestramento.',\n",
              " 'snoopy pergunta-se até que ponto charlie brown faria tudo o que ele quisesse.',\n",
              " 'por um tempo, em 1977, snoopy ficou prometido a uma cadela que nunca apareceu, que ele conheceu enquanto guardava a casa da patty pimentinha.',\n",
              " 'mas, ela fugiu com outro cachorro, e mais tarde viu-se a sua chegada de spike,seu irmão.',\n",
              " 'esta história foi adaptada à animação com o nome: \"o snoopy vai casar, charlie brown\" (snoopy\\'s getting married, charlie brown,nesta animação,a cadela aparece .',\n",
              " 'snoopy odeia qualquer coisa com coco e biscoitos, tem claustrofobia, e tem um medo mortal dos pedaços de gelo que balançam em cima da sua casa durante o inverno, que é muito maior por dentro do que o que parece por fora (o sótão é suficientemente grande para ter uma piscina, os quadros mencionados acima e uma tv).',\n",
              " 'snoopy é bilingue, pois compreende um pouco de francês.',\n",
              " 'a sua comida de cão chama-se \"para cães que voaram na primeira guerra mundial e compreendem um pouco de francês\".',\n",
              " 'ele fracassou no seu curso de geometria, que era sua desculpa para não poder seguir o curso de golfe.',\n",
              " 'snoopy tem também a sua própria dança, que se chama a dança do snoopy\\n o sucesso dos quadrinhos resultou no lançamento de uma série de tv.',\n",
              " 'a seguir, a lista dos episódios já produzidos.',\n",
              " 'ao longo dos anos, foi revelado que snoopy nasceu e foi criado na fazenda de cães daisy hill  .',\n",
              " 'seu pai costumava correr com os cães de caça, mas secretamente corria na frente e avisava os coelhos.',\n",
              " 'sua mãe é famosa por seu pudim de tapioca, e em uma tira peanuts de 1990, veio em um i-era troopship  para visitar snoopy e spike, que estava doente com a gripe.',\n",
              " 'de todos os seus irmãos, o irmão de snoopy, olaf foi o último a ser vendido.',\n",
              " 'antes de serem vendidos, snoopy e seus irmãos e irmãs formavam uma banda e um por um, cada um foi vendido.',\n",
              " 'a dona original do snoopy era uma menina chamada laila, que teve que devolvê-lo à daisy hill depois que sua família se mudou para um hotel onde era proibido cães.',\n",
              " 'logo após seu retorno para a fazenda, snoopy foi escolhido pelos pais de charlie brown como um companheiro para ele.',\n",
              " 'na faixa de 30 de janeiro de 1972, charlie brown diz que seus pais compraram snoopy   para animá-lo depois que outra criança jogou areia em seu rosto, enquanto eles estavam brincando na caixa de areia.',\n",
              " 'em  novembro de 1972, enquanto acompanhava woodstock em sua migração de inverno, snoopy percebe que ele está perto da fazenda daisy hill  .',\n",
              " 'ele decide mostrar a woodstock onde ele nasceu, apenas para descobrir que a fazenda  foi substituída por um prédio de seis andares, fazendo snoopy a chorar, \"vocês, pessoas estúpidas!',\n",
              " 'vocês estão estacionando na minha memória!\"',\n",
              " '(24 novembro, 1972).',\n",
              " 'isso se reflete também em no desenho \"snoopy\\'s reunion\", onde snoopy e seus irmãos se reúnem na fazenda daisy hill para um piquenique, mas, infelizmente, descobrem que ela foi demolida .',\n",
              " 'snoopy é geralmente descrito como tendo sete irmãos, cinco dos quais aparecem em algum momento na faixa: andy, belle, marbles, olaf, e spike.',\n",
              " 'na maioria das vezes é visto spike, que vive no deserto (perto da localidade da vida real de needles, califórnia).',\n",
              " 'compartilhando o gosto de snoopy para uma vida de fantasia, ele é amigo de  cactos.',\n",
              " 'spike é muito magro, usa um chapéu e tem longos bigodes.',\n",
              " '(spike era o nome de um dos cães  da infância de schulz.)',\n",
              " 'andy parece uma versão descabelada de snoopy.',\n",
              " 'olaf, que usa um gorro de pele, é redondo no corpo e na face.',\n",
              " 'marbles é o mais inteligente do grupo.',\n",
              " 'ele tem manchas na sua pele (fazendo-o parecer um pouco com um dálmata), usa sapatos, e considera alguns dos comportamentos de snoopy muito estranhos.',\n",
              " 'belle, que se parece com snoopy com orelhas longas, é mais notável que havia um bicho de pelúcia da belle disponível por muitos anos.',\n",
              " 'embora snoopy frequentemente menciona que ele foi um dos oito filhotes, os dois outros irmãos jamais apareceram na história em quadrinhos.',\n",
              " \"de acordo com o especial animado snoopy's reunion, eles são chamados de molly e rover.\",\n",
              " 'todos eles formavam  uma banda , com snoopy na guitarra acústica.',\n",
              " 'em uma tira de 1965, snoopy criou uma \"reunião de família\", e afirmou-se que ele tinha dois irmãos (um deles morava em washington e outra no texas) e três irmãs (uma em st.louis, uma em hollywood eo último em kansas).',\n",
              " 'após a reunião, snoopy estava aparentemente desapontado, para imediatamente depois de chegar em casa, ele declarar: \"a antecipação ultrapassou em muito o evento real.\"',\n",
              " 'muitos anos antes de seus irmãos aparecerem, snoopy referiu a si mesmo como \"um só cão\" que não tinha irmãos ou irmãs.',\n",
              " 'assim como snoopy, os pensamentos de seus irmãos são comunicados via balão de pensamento.',\n",
              " 'snoopy, come home!',\n",
              " '(no brasil: snoopy, volte para casa!, volte para casa, snoopy!',\n",
              " 'ou snoopy, volte ao lar) é um filme estadunidense de animação musical do gênero comédia dramática de 1972, dirigido por bill melendez e escrito por charles m. schulz baseado na tira em quadrinhos peanuts.',\n",
              " '[3]\\n trata-se do segundo filme longa metragem para os cinemas baseado nas tiras originais de schulz, sucedendo a boy named charlie brown (1969).',\n",
              " 'o filme acompanha o beagle snoopy que deixa o seu dono charlie brown para visitar sua antiga dona, deixando brown preocupado com a situação, fazendo-o repensar sobre algumas de suas atitudes arrogantes para com o cãozinho; o filme marcou a estreia no cinema do personagem woodstock, que já marcava presença nas hqs dos peanuts desde 1967.\\n o filme teve a trilha sonora composta por don ralke, com as canções e letras concebidas por robert b. sherman e richard m. sherman, dois irmãos compositores que já trabalharam juntos em alguns filmes da disney como mary poppins (1964), the jungle book (1967) e bedknobs and broomsticks (1971).',\n",
              " 'produzido pela cinema center films (sendo a última produção desse estúdio), lee mendelson/bill melendez productions e sopwith productions, foi lançado nos cinemas americanos em 9 de agosto de 1972 pela national general pictures.',\n",
              " 'apesar de receber críticas amplamente positivas, snoopy, come home!',\n",
              " 'foi um fracasso de bilheteria, arrecadando apenas us$ 245.073 contra um orçamento de produção de mais de us$ 1 milhão.',\n",
              " '[4]\\n o cãozinho beagle snoopy vive uma vida relativamente tranquila com seu dono charlie brown, indo costumeiramente à praia com sua amiga patty pimentinha onde brincam e nadam na água do mar alegremente.',\n",
              " 'contudo, sua vida livre causa irritação em charlie brown que percebe que snoopy está cada vez mais se tornando \"independente\", saindo e voltando para casa no horário que quiser enquanto charlie brown prepara seu jantar todos os dias cada vez mais furioso com isso.',\n",
              " 'um dia, snoopy é barrado de entrar na praia por conta de uma nova restrição que proibia cães no local, fazendo-o escrever uma carta para o seu \"editor\" reclamando sobre a restrição; patty, que havia marcado de fazer um piquenique com snoopy na praia, pensa que o cãozinho \"deu-lhe um bolo\" e se enfurece.',\n",
              " 'em outra situação, snoopy acompanha charlie brown e sua irmã sally em uma biblioteca.',\n",
              " 'contudo, o cãozinho é expulso por conta do local também não permitir a entrada de cães.',\n",
              " 'ao voltar para casa, snoopy cria uma briga com linus por ter tentado lhe tomar o seu cobertor.',\n",
              " 'após isso, snoopy encontra lucy treinando boxe e ela o convida para uma peleja; após uma intensa luta, snoopy a beija no rosto e ela responde jogando uma de suas luvas no cachorro.',\n",
              " 'enquanto isso, num hospital longe dali, uma garotinha chamada lila está internada e escreve uma carta para snoopy.',\n",
              " 'quando este a recebe ele imediatamente prepara suas malas e chama seu amigo, o passarinho woodstock, para acompanha-lo numa longa viagem; charlie brown fica cada vez mais confuso e passa a se questionar o que levou o cachorro a ir embora.',\n",
              " 'durante a viagem, snoopy e woodstock tentam viajar de ônibus, mas o cão é chutado pra fora do veículo, mais uma vez por conta de uma proibição contra cães.',\n",
              " 'eles então passam a viajar a pé e encontram uma garotinha que adota os dois compulsoriamente, prendendo snoopy em uma coleira no quintal e woodstock em uma gaiola em seu quarto; após um tempo sofrendo com as brincadeiras abusivas da menina, os dois conseguem fugir, retomando a viagem.',\n",
              " 'naquela noite, eles param para descansar numa floresta onde jantam e dormem num ninho preparado por woodstock.',\n",
              " 'charlie brown fica cada vez mais preocupado com snoopy, apesar dos esforços de seus amigos em tentar reanima-lo.',\n",
              " 'após perguntar a charlie brown como ele conheceu snoopy, linus decide telefonar para o cuidador de filhotes da fazenda daisy hill, onde charlie adotou snoopy, para questionar o passado do animal.',\n",
              " 'linus descobre que, antes de charlie brown pegar snoopy, o cãozinho já tinha sido adotado anteriormente por uma menina chamada lila, mas quando sua família teve que se mudar eles decidiram devolver snoopy à fazenda.',\n",
              " 'linus conta a charlie tudo o que descobriu e supõe que snoopy foi morar com lila por ela estar doente no hospital.',\n",
              " 'após saberem disso, charlie brown e seus amigos passam a se culpar por terem brigado com o cãozinho, o que poderia ter servido como um estímulo para snoopy ter os deixado.',\n",
              " 'snoopy e woodstock finalmente chegam no hospital, mas se deparam com um novo aviso que proíbe não só a entrada de cães como também de pássaros.',\n",
              " 'após uma primeira tentativa de snoopy entrar disfarçado de médico ser frustrada eles conseguem adentrar no quarto de lila sorrateiramente.',\n",
              " 'snoopy e lila finalmente se reencontram e o cão passa a fazer companhia para a menina, embora ainda precise se esconder dos enfermeiros.',\n",
              " 'com o passar dos dias, o quadro de lila melhora significativamente e ela o chama para morar de volta com ela; inicialmente o animal recusa, mas após ver o sofrimento dela snoopy relutantemente concorda.',\n",
              " 'vendo que o cachorro ainda está apegado com seu atual dono, lila permite que snoopy volte para casa para se despedir de seus amigos e depois vir morar com ela assim que a menina receber alta.',\n",
              " 'quando o cão volta para casa, charlie brown o avista escrevendo uma carta em sua máquina de escrever e corre para recepciona-lo, mas snoopy lhe entrega a carta onde avisa que irá embora para sempre, decidindo ficar com lila.',\n",
              " 'na carta, snoopy agradece o carinho de seus amigos lhe deixando alguns de seus pertences como um bastão de croquet e um jogo de xadrez para linus e sua coleção de discos para schroeder.',\n",
              " 'as crianças então dão uma grande e chorosa festa de despedida para snoopy, cada uma trazendo um presente (que acabam sendo somente ossos).',\n",
              " 'durante um discurso final, as crianças mais próximas de snoopy se oferecem para dizer algumas palavras em sua homenagem; ao chegar a vez de charlie brown, este apenas chora desesperadamente.',\n",
              " 'no dia de sua partida, snoopy disponibiliza sua casinha de cachorro para venda ou aluguel, se despede de woodstock e dá um último abraço em charlie brown.',\n",
              " 'depois que snoopy vai embora, charlie brown não consegue mais dormir nem comer de tamanha saudades.',\n",
              " 'quando snoopy chega ao prédio de lila no dia seguinte, ele vê uma placa de aviso ao lado da porta da frente que proíbe cães no edifício.',\n",
              " 'isso causa uma grande felicidade para snoopy pois agora ele tem uma desculpa para voltar para charlie brown.',\n",
              " 'quando lila desce para recebe-lo snoopy mostra o aviso à menina, que não sabia da proibição de cães no local.',\n",
              " 'lila não tem outra escolha a não ser permitir que snoopy vá embora.',\n",
              " 'ele retorna alegremente para a casa de charlie brown, sendo avistado por woodstock que o recepciona euforicamente.',\n",
              " 'de volta para casa, as crianças ficam radiantes ao ver o retorno de snoopy, carregando-o de volta para sua casinha de cachorro no quintal de charlie brown.',\n",
              " 'chegando lá, usando sua máquina de escrever, snoopy exige que as crianças devolvam os pertences que ele lhes deu anteriormente.',\n",
              " 'a turma, irritada com isso, deixa charlie brown e snoopy sozinhos.',\n",
              " 'charlie brown posteriormente também se afasta irritado, enquanto os créditos finais são datilografados por woodstock e ditados por snoopy.',\n",
              " 'snoopy, come home!',\n",
              " 'marcou a primeira vez que os pensamentos de snoopy são totalmente comunicados ao público fora das histórias em quadrinhos.',\n",
              " 'isso foi conseguido fazendo com que suas falas fossem digitadas na sua máquina de escrever para aparecerem na parte de cima da tela, dando ao espectador acesso total aos seus pensamentos.',\n",
              " 'quando snoopy não estava com o equipamento em cena, schulz optou por silenciar totalmente o personagem, exceto por alguns grunhidos e rosnados flexionados.',\n",
              " 'os balões de pensamento de snoopy, embora frequentes nas tiras originais, não foram utilizados ou dublados nos projetos animados.',\n",
              " 'o filme foi o único projeto de animação dos peanuts produzido durante a vida de vince guaraldi (1928–1976) que não continha uma partitura musical do famoso compositor de jazz.',\n",
              " 'guaraldi havia composto as trilhas de todos os especiais de animação anteriores dos personagens de schulz para a televisão, bem como no filme anterior a boy named charlie brown, que marcou a estreia dos personagens nos cinemas.',\n",
              " 'a música para este filme foi fornecida pelos irmãos sherman, richard e robert, então famosos por terem contribuído em projetos anteriores da disney.',\n",
              " 'schulz disse que isso era um experimento, já que ele queria dar uma sensação mais comercial de \"disney\" para snoopy, come home!.',\n",
              " 'em 2011, o produtor lee mendelson declarou: \"todos acharam que o primeiro filme tinha a mesma \\'sensação\\' dos especiais de tv [...] nós coletivamente concordamos que esse filme deveria ter uma \\'aparência\\' e trilha sonora mais familiar a um longa-metragem.',\n",
              " 'é por isso que fomos atrás dos shermans, que na época eram os melhores em sua área para essas coisas\".',\n",
              " '[5]\\n \\nschulz disse mais tarde que planejava utilizar os serviços de guaraldi para o terceiro filme dos peanuts, race for your life, charlie brown, caso o compositor não tivesse morrido repentinamente em fevereiro de 1976 de ataque cardíaco.',\n",
              " '[6] um álbum de trilha sonora do filme foi lançado pela columbia masterworks.todas as faixas escritas e compostas por robert b. sherman e richard m. sherman.',\n",
              " 'após ser produzido pelos estúdios lee mendelson film productions, bill melendez productions (sem créditos de direitos autorais), sopwith productions e cinema center films (marcando a última produção deste), o filme foi lançado em 9 de agosto de 1972 nos estados unidos pela extinta distribuidora national general pictures.',\n",
              " 'foi televisionado pela primeira vez em 5 de novembro de 1976, através de uma exibição especial da cbs.',\n",
              " 'no brasil, o filme recebeu pelo menos três títulos: snoopy, volte para casa!',\n",
              " '(dublado pela s&c são paulo),[7] volte para casa, snoopy!',\n",
              " '(dublado pela mastersound)[8] e snoopy, volte ao lar.',\n",
              " '[carece\\xa0de fontes?]',\n",
              " 'snoopy, come home!',\n",
              " 'arrecadou us$ 245.073 de bilheteria contra um orçamento de us$ 1 milhão, se tornando um fracasso comercial.',\n",
              " 'segundo dados de setembro de 2020, o filme teve uma avaliação de 93% no site de resenhas cinematográficas rotten tomatoes, com base em 14 comentários obtendo uma nota média de 7,70/10.',\n",
              " '[4] o jornal the new york times declarou: \"este deleite alegre, inteligente e hilário - tudo o que uma história em quadrinhos poderia oferecer para os cinemas - é ainda melhor do que a boy named charlie brown, que deu início à saga dos peanuts nas telonas\".',\n",
              " '[9]\\n o filme foi lançado nos formatos ced, laserdisc e vhs em 1984, 1985 e 1992, respectivamente.',\n",
              " 'em 1995, o filme foi relançado em vhs pela 20th century fox home entertainment, seguido por um segundo relançamento em 29 de maio de 2001 junto com um dvd em widescreen anamórfico pela paramount home entertainment.',\n",
              " 'em 2006, o filme foi relançado em dvd em 28 de março daquele ano através de uma parceria entre a paramount home entertainment e a cbs home entertainment (que absorveu a antiga cinema center films, que co-produziu o filme nos anos 70).',\n",
              " 'em novembro de 2016, snoopy, come home!',\n",
              " 'foi disponibilizado pela primeira vez em blu-ray junto com a boy named charlie brown.',\n",
              " '[10]\\n snoopy in space (bra/prt: snoopy no espaço) é uma série de televisão canadense-americana com streaming de animação em flash inspirada nos quadrinhos peanuts, de charles m. schulz.',\n",
              " 'produzido pela dhx media, o programa estreou em 1º de novembro de 2019 na apple tv+.',\n",
              " '[1]\\n the snoopy show (brasil: snoopy e sua turma / portugal: o mundo do snoopy) é uma série de televisão canadense-americana com streaming de animação em flash inspirada nos quadrinhos peanuts, de charles m. schulz.',\n",
              " 'produzido pela dhx media, o programa será lançado em 5 de fevereiro de 2021 na apple tv+.',\n",
              " 'the charlie brown and snoopy show (a turma do charlie brown ou o programa de charlie brown e snoopy no brasil e o espetáculo do charlie brown e do snoopy em portugal), também conhecida como peanuts, é  uma série de televisão estadunidense baseada na série de banda desenhada de mesmo nome.',\n",
              " '[1]\\n charlie brown, é um menino generoso, de bom coração, mas tímido e desastrado, sempre apaixonado pela menina ruiva que nunca lhe dá atenção...\\n snoopy, não é um cão de verdade, mas sim uma imagem do que as pessoas queriam que fosse um cão.',\n",
              " 'ele joga basebol, ténis, golfe, vê televisão e adora biscoitos de chocolate.',\n",
              " 'lucy, mandona e egoísta, resolve tudo a gritar e arruina qualquer um com os seus comentários sarcásticos e desagradáveis.',\n",
              " 'linus, é o irmão mais novo de lucy e o melhor amigo de charlie brown.',\n",
              " 'tem um sério problema emocional e não larga o seu cobertor azul.',\n",
              " 'shroeder, adorado por lucy, é o artista do grupo.',\n",
              " 'no seu pianinho de brincar ele executa grandes obras do seu ídolo beethoven...\\n eles e o seu grupo de amigos vivem as mais desconcertantes aventuras, que irão fazer as delícias de pequenos e graúdos...\\n snoopy, charlie brown, linus... eles são os \"peanuts\", as personagens de animação mais famosas e populares do mundo inteiro!']"
            ]
          },
          "metadata": {},
          "execution_count": 17
        }
      ]
    },
    {
      "cell_type": "code",
      "source": [
        "len(lista_sentencas)"
      ],
      "metadata": {
        "colab": {
          "base_uri": "https://localhost:8080/"
        },
        "id": "_N-dDIHw3Uy-",
        "outputId": "a9932cfb-4530-4302-8c91-8e604af8acd1"
      },
      "execution_count": null,
      "outputs": [
        {
          "output_type": "execute_result",
          "data": {
            "text/plain": [
              "153"
            ]
          },
          "metadata": {},
          "execution_count": 16
        }
      ]
    },
    {
      "cell_type": "code",
      "source": [
        "type(lista_sentencas)"
      ],
      "metadata": {
        "colab": {
          "base_uri": "https://localhost:8080/"
        },
        "id": "J2cxidee3VyF",
        "outputId": "14b801d2-1909-4cc4-bdde-3caf1331b27a"
      },
      "execution_count": null,
      "outputs": [
        {
          "output_type": "execute_result",
          "data": {
            "text/plain": [
              "list"
            ]
          },
          "metadata": {},
          "execution_count": 18
        }
      ]
    },
    {
      "cell_type": "code",
      "source": [
        "lista_sentencas[10]"
      ],
      "metadata": {
        "colab": {
          "base_uri": "https://localhost:8080/",
          "height": 35
        },
        "id": "VgaLepEH3XLV",
        "outputId": "543b923a-274a-4363-dcd0-1e7e2eddff1e"
      },
      "execution_count": null,
      "outputs": [
        {
          "output_type": "execute_result",
          "data": {
            "text/plain": [
              "'schulz, numa entrevista em 1997, disse o seguinte acerca do carácter do snoopy: \"ele tem que sair do seu mundo de fantasia para sobreviver.'"
            ],
            "application/vnd.google.colaboratory.intrinsic+json": {
              "type": "string"
            }
          },
          "metadata": {},
          "execution_count": 19
        }
      ]
    },
    {
      "cell_type": "code",
      "source": [
        "pln = spacy.load('pt_core_news_sm')"
      ],
      "metadata": {
        "id": "SuMKBESd3YNd"
      },
      "execution_count": null,
      "outputs": []
    },
    {
      "cell_type": "code",
      "source": [
        "stop_words = spacy.lang.pt.stop_words.STOP_WORDS\n"
      ],
      "metadata": {
        "id": "YH-o0Eop3ZZu"
      },
      "execution_count": null,
      "outputs": []
    },
    {
      "cell_type": "code",
      "source": [
        "string.punctuation"
      ],
      "metadata": {
        "colab": {
          "base_uri": "https://localhost:8080/",
          "height": 35
        },
        "id": "ZkMiXm4A3agl",
        "outputId": "6eb22b7e-0a0a-472e-9f74-91ea9d23f1cd"
      },
      "execution_count": null,
      "outputs": [
        {
          "output_type": "execute_result",
          "data": {
            "text/plain": [
              "'!\"#$%&\\'()*+,-./:;<=>?@[\\\\]^_`{|}~'"
            ],
            "application/vnd.google.colaboratory.intrinsic+json": {
              "type": "string"
            }
          },
          "metadata": {},
          "execution_count": 22
        }
      ]
    },
    {
      "cell_type": "code",
      "source": [
        "def preprocessamento(texto):\n",
        "\n",
        "    texto = re.sub(r\"https?://[A-Za-z0-9./]+\", ' ', texto)\n",
        "\n",
        "    texto = re.sub(r\" +\", ' ', texto)\n",
        "\n",
        "    documento = pln(texto)\n",
        "    lista = []\n",
        "    for token in documento:\n",
        "      lista.append(token.lemma_)\n",
        "\n",
        "    lista = [palavra for palavra in lista if palavra not in stop_words and palavra not in string.punctuation]\n",
        "    lista = ' '.join([str(elemento) for elemento in lista if not elemento.isdigit()])\n",
        "\n",
        "    return lista"
      ],
      "metadata": {
        "id": "K8BATAoI3cT1"
      },
      "execution_count": null,
      "outputs": []
    },
    {
      "cell_type": "code",
      "source": [
        "texto_teste = 'https://fateczonasul.edu.br/' + lista_sentencas[85]\n",
        "texto_teste"
      ],
      "metadata": {
        "colab": {
          "base_uri": "https://localhost:8080/",
          "height": 35
        },
        "id": "GMKM5u7o3cxF",
        "outputId": "d22f4895-463b-48e8-915e-17ec1c730c72"
      },
      "execution_count": null,
      "outputs": [
        {
          "output_type": "execute_result",
          "data": {
            "text/plain": [
              "'https://fateczonasul.edu.br/durante a viagem, snoopy e woodstock tentam viajar de ônibus, mas o cão é chutado pra fora do veículo, mais uma vez por conta de uma proibição contra cães.'"
            ],
            "application/vnd.google.colaboratory.intrinsic+json": {
              "type": "string"
            }
          },
          "metadata": {},
          "execution_count": 24
        }
      ]
    },
    {
      "cell_type": "code",
      "source": [
        "resultado= preprocessamento(texto_teste)\n",
        "resultado"
      ],
      "metadata": {
        "colab": {
          "base_uri": "https://localhost:8080/",
          "height": 35
        },
        "id": "Nr_qrz0A3d7d",
        "outputId": "03045632-936f-4480-eaae-75610665f840"
      },
      "execution_count": null,
      "outputs": [
        {
          "output_type": "execute_result",
          "data": {
            "text/plain": [
              "'  viagem snoopy woodstock viajar ônibus cão chutar pra de o veículo conta proibição cão'"
            ],
            "application/vnd.google.colaboratory.intrinsic+json": {
              "type": "string"
            }
          },
          "metadata": {},
          "execution_count": 25
        }
      ]
    },
    {
      "cell_type": "code",
      "source": [
        "lista_sentencas_preprocessada = []\n",
        "for i in range(len(lista_sentencas)):\n",
        "  lista_sentencas_preprocessada.append(preprocessamento(lista_sentencas[i]))"
      ],
      "metadata": {
        "id": "2AxKm-Js3fIF"
      },
      "execution_count": null,
      "outputs": []
    },
    {
      "cell_type": "code",
      "source": [
        "for _ in range(5):\n",
        "    i = random.randint(0, len(lista_sentencas) - 1)\n",
        "    print(lista_sentencas[i])\n",
        "    print(lista_sentencas_preprocessada[i])"
      ],
      "metadata": {
        "colab": {
          "base_uri": "https://localhost:8080/"
        },
        "id": "gN5elwNb3gZV",
        "outputId": "abe0f939-c2f0-47c6-db31-dd0253ee2f23"
      },
      "execution_count": null,
      "outputs": [
        {
          "output_type": "stream",
          "name": "stdout",
          "text": [
            "produzido pela cinema center films (sendo a última produção desse estúdio), lee mendelson/bill melendez productions e sopwith productions, foi lançado nos cinemas americanos em 9 de agosto de 1972 pela national general pictures.\n",
            "produzir por o cinema center films produção de esse estúdio Lee mendelson bill melendez productions Sopwith Productions lançar em o cinema americano agosto por o national general pictur\n",
            "snoopy e lila finalmente se reencontram e o cão passa a fazer companhia para a menina, embora ainda precise se esconder dos enfermeiros.\n",
            "snoopy lila finalmente reencontr cão passar companhia menina preciser esconder de o enfermeiro\n",
            "durante a viagem, snoopy e woodstock tentam viajar de ônibus, mas o cão é chutado pra fora do veículo, mais uma vez por conta de uma proibição contra cães.\n",
            "durante viagem snoopy woodstock viajar ônibus cão chutar pra de o veículo conta proibição cão\n",
            "antes de serem vendidos, snoopy e seus irmãos e irmãs formavam uma banda e um por um, cada um foi vendido.\n",
            "vender snoopy irmão irmã formar banda vender\n",
            "compartilhando o gosto de snoopy para uma vida de fantasia, ele é amigo de  cactos.\n",
            "compartilhar gosto snoopy vida fantasia amigo cacto\n"
          ]
        }
      ]
    },
    {
      "cell_type": "code",
      "source": [
        "textos_boas_vindas_entrada = {'hey', 'ola', 'oi', 'eae'}\n",
        "textos_boas_vindas_respostas = {'hey', 'ola', 'oi', 'eae', 'bom dia', 'como vc vai?', 'salve'}"
      ],
      "metadata": {
        "id": "XSPiiLjG3jE-"
      },
      "execution_count": null,
      "outputs": []
    },
    {
      "cell_type": "code",
      "source": [
        "'ola'.split()"
      ],
      "metadata": {
        "colab": {
          "base_uri": "https://localhost:8080/"
        },
        "id": "1QxbuCIE3h3l",
        "outputId": "ba397fa4-b438-4100-b73f-a74fe1ee815b"
      },
      "execution_count": null,
      "outputs": [
        {
          "output_type": "execute_result",
          "data": {
            "text/plain": [
              "['ola']"
            ]
          },
          "metadata": {},
          "execution_count": 29
        }
      ]
    },
    {
      "cell_type": "code",
      "source": [
        "def responder_saudacao(texto):\n",
        "  for palavra in texto.split():\n",
        "    if palavra.lower() in textos_boas_vindas_entrada:\n",
        "      return random.choise(textos_boas_vindas_respostas)"
      ],
      "metadata": {
        "id": "ENg7OAH43lDV"
      },
      "execution_count": null,
      "outputs": []
    },
    {
      "cell_type": "code",
      "source": [
        "responder_saudacao('ola, como vc vai?')"
      ],
      "metadata": {
        "id": "mrqCvvVJ3n5e"
      },
      "execution_count": null,
      "outputs": []
    },
    {
      "cell_type": "code",
      "source": [
        "from sklearn.feature_extraction.text import TfidfVectorizer\n",
        "\n",
        "frases_teste = lista_sentencas_preprocessada[:3]\n",
        "frases_teste"
      ],
      "metadata": {
        "colab": {
          "base_uri": "https://localhost:8080/"
        },
        "id": "4G2HSMNpBxfw",
        "outputId": "5a157aa5-82d1-46d8-d918-839e8c9b3873"
      },
      "execution_count": null,
      "outputs": [
        {
          "output_type": "execute_result",
          "data": {
            "text/plain": [
              "['snoopy beagle[1 estimação charlie brown em o tira quadrinho peanuts criar charle Schulz',\n",
              " 'snoopy aparecer por o outubro tirinha apresentar outubro de o ano',\n",
              " 'Schulz originalmente chamar cão sniffy descobrir nome outro tirinha']"
            ]
          },
          "metadata": {},
          "execution_count": 32
        }
      ]
    },
    {
      "cell_type": "code",
      "source": [
        "frases_teste.append(frases_teste[0])\n",
        "frases_teste\n"
      ],
      "metadata": {
        "colab": {
          "base_uri": "https://localhost:8080/"
        },
        "id": "xSZ78EOpByiI",
        "outputId": "570f7c17-2e64-4026-c6b0-2453282f6e02"
      },
      "execution_count": null,
      "outputs": [
        {
          "output_type": "execute_result",
          "data": {
            "text/plain": [
              "['snoopy beagle[1 estimação charlie brown em o tira quadrinho peanuts criar charle Schulz',\n",
              " 'snoopy aparecer por o outubro tirinha apresentar outubro de o ano',\n",
              " 'Schulz originalmente chamar cão sniffy descobrir nome outro tirinha',\n",
              " 'snoopy beagle[1 estimação charlie brown em o tira quadrinho peanuts criar charle Schulz']"
            ]
          },
          "metadata": {},
          "execution_count": 33
        }
      ]
    },
    {
      "cell_type": "code",
      "source": [
        "vetores_palavras = TfidfVectorizer()\n",
        "palavras_vetorizadas = vetores_palavras.fit_transform(frases_teste)\n",
        "\n",
        "palavras_vetorizadas"
      ],
      "metadata": {
        "colab": {
          "base_uri": "https://localhost:8080/"
        },
        "id": "KwwJelv6B2GH",
        "outputId": "4b344736-f3ad-44d7-a8b2-ae6751ccae6f"
      },
      "execution_count": null,
      "outputs": [
        {
          "output_type": "execute_result",
          "data": {
            "text/plain": [
              "<Compressed Sparse Row sparse matrix of dtype 'float64'\n",
              "\twith 41 stored elements and shape (4, 26)>"
            ]
          },
          "metadata": {},
          "execution_count": 34
        }
      ]
    },
    {
      "cell_type": "code",
      "source": [
        "print(vetores_palavras.get_feature_names_out())"
      ],
      "metadata": {
        "colab": {
          "base_uri": "https://localhost:8080/"
        },
        "id": "acQDbpIJB21_",
        "outputId": "b06cf995-1377-456c-8a09-b2e088ee57c7"
      },
      "execution_count": null,
      "outputs": [
        {
          "output_type": "stream",
          "name": "stdout",
          "text": [
            "['ano' 'aparecer' 'apresentar' 'beagle' 'brown' 'chamar' 'charle'\n",
            " 'charlie' 'criar' 'cão' 'de' 'descobrir' 'em' 'estimação' 'nome'\n",
            " 'originalmente' 'outro' 'outubro' 'peanuts' 'por' 'quadrinho' 'schulz'\n",
            " 'sniffy' 'snoopy' 'tira' 'tirinha']\n"
          ]
        }
      ]
    },
    {
      "cell_type": "code",
      "source": [
        "len(vetores_palavras.get_feature_names_out())"
      ],
      "metadata": {
        "colab": {
          "base_uri": "https://localhost:8080/"
        },
        "id": "yk7fJnEUB4-v",
        "outputId": "6ad129c1-64ed-4133-e55b-1635a270c379"
      },
      "execution_count": null,
      "outputs": [
        {
          "output_type": "execute_result",
          "data": {
            "text/plain": [
              "26"
            ]
          },
          "metadata": {},
          "execution_count": 36
        }
      ]
    },
    {
      "cell_type": "code",
      "source": [
        "print(vetores_palavras.vocabulary_)"
      ],
      "metadata": {
        "colab": {
          "base_uri": "https://localhost:8080/"
        },
        "id": "7Ul37IXqB7B_",
        "outputId": "4bc1fd0d-4728-40bb-a29e-ecf55278f062"
      },
      "execution_count": null,
      "outputs": [
        {
          "output_type": "stream",
          "name": "stdout",
          "text": [
            "{'snoopy': 23, 'beagle': 3, 'estimação': 13, 'charlie': 7, 'brown': 4, 'em': 12, 'tira': 24, 'quadrinho': 20, 'peanuts': 18, 'criar': 8, 'charle': 6, 'schulz': 21, 'aparecer': 1, 'por': 19, 'outubro': 17, 'tirinha': 25, 'apresentar': 2, 'de': 10, 'ano': 0, 'originalmente': 15, 'chamar': 5, 'cão': 9, 'sniffy': 22, 'descobrir': 11, 'nome': 14, 'outro': 16}\n"
          ]
        }
      ]
    },
    {
      "cell_type": "code",
      "source": [
        "print(vetores_palavras.idf_)"
      ],
      "metadata": {
        "colab": {
          "base_uri": "https://localhost:8080/"
        },
        "id": "7tVZ_nh5B8XQ",
        "outputId": "2fba10e7-0ea5-4c19-c681-c91afe95ce92"
      },
      "execution_count": null,
      "outputs": [
        {
          "output_type": "stream",
          "name": "stdout",
          "text": [
            "[1.91629073 1.91629073 1.91629073 1.51082562 1.51082562 1.91629073\n",
            " 1.51082562 1.51082562 1.51082562 1.91629073 1.91629073 1.91629073\n",
            " 1.51082562 1.51082562 1.91629073 1.91629073 1.91629073 1.91629073\n",
            " 1.51082562 1.91629073 1.51082562 1.22314355 1.91629073 1.22314355\n",
            " 1.51082562 1.51082562]\n"
          ]
        }
      ]
    },
    {
      "cell_type": "code",
      "source": [
        "palavras_vetorizadas.todense()"
      ],
      "metadata": {
        "colab": {
          "base_uri": "https://localhost:8080/"
        },
        "id": "XYLtMfV4B_KY",
        "outputId": "0154408f-4701-421e-92ef-608f9cc402ca"
      },
      "execution_count": null,
      "outputs": [
        {
          "output_type": "execute_result",
          "data": {
            "text/plain": [
              "matrix([[0.        , 0.        , 0.        , 0.29733922, 0.29733922,\n",
              "         0.        , 0.29733922, 0.29733922, 0.29733922, 0.        ,\n",
              "         0.        , 0.        , 0.29733922, 0.29733922, 0.        ,\n",
              "         0.        , 0.        , 0.        , 0.29733922, 0.        ,\n",
              "         0.29733922, 0.24072172, 0.        , 0.24072172, 0.29733922,\n",
              "         0.        ],\n",
              "        [0.31577018, 0.31577018, 0.31577018, 0.        , 0.        ,\n",
              "         0.        , 0.        , 0.        , 0.        , 0.        ,\n",
              "         0.31577018, 0.        , 0.        , 0.        , 0.        ,\n",
              "         0.        , 0.        , 0.63154037, 0.        , 0.31577018,\n",
              "         0.        , 0.        , 0.        , 0.20155202, 0.        ,\n",
              "         0.24895684],\n",
              "        [0.        , 0.        , 0.        , 0.        , 0.        ,\n",
              "         0.35291425, 0.        , 0.        , 0.        , 0.35291425,\n",
              "         0.        , 0.35291425, 0.        , 0.        , 0.35291425,\n",
              "         0.35291425, 0.35291425, 0.        , 0.        , 0.        ,\n",
              "         0.        , 0.22526059, 0.35291425, 0.        , 0.        ,\n",
              "         0.27824164],\n",
              "        [0.        , 0.        , 0.        , 0.29733922, 0.29733922,\n",
              "         0.        , 0.29733922, 0.29733922, 0.29733922, 0.        ,\n",
              "         0.        , 0.        , 0.29733922, 0.29733922, 0.        ,\n",
              "         0.        , 0.        , 0.        , 0.29733922, 0.        ,\n",
              "         0.29733922, 0.24072172, 0.        , 0.24072172, 0.29733922,\n",
              "         0.        ]])"
            ]
          },
          "metadata": {},
          "execution_count": 39
        }
      ]
    },
    {
      "cell_type": "code",
      "source": [
        "palavras_vetorizadas.todense().shape"
      ],
      "metadata": {
        "colab": {
          "base_uri": "https://localhost:8080/"
        },
        "id": "CToJ_DBYCA5f",
        "outputId": "33c425c0-5a64-4c6b-ecc1-d19d61ea6eef"
      },
      "execution_count": null,
      "outputs": [
        {
          "output_type": "execute_result",
          "data": {
            "text/plain": [
              "(4, 26)"
            ]
          },
          "metadata": {},
          "execution_count": 40
        }
      ]
    },
    {
      "cell_type": "code",
      "source": [
        "from sklearn.metrics.pairwise import cosine_similarity"
      ],
      "metadata": {
        "id": "EYW58GYVCCTn"
      },
      "execution_count": null,
      "outputs": []
    },
    {
      "cell_type": "code",
      "source": [
        "palavras_vetorizadas[0].todense()"
      ],
      "metadata": {
        "colab": {
          "base_uri": "https://localhost:8080/"
        },
        "id": "ScYLvdeoCDoH",
        "outputId": "5ced1027-f118-4967-bfd3-5114ed5a1acc"
      },
      "execution_count": null,
      "outputs": [
        {
          "output_type": "execute_result",
          "data": {
            "text/plain": [
              "matrix([[0.        , 0.        , 0.        , 0.29733922, 0.29733922,\n",
              "         0.        , 0.29733922, 0.29733922, 0.29733922, 0.        ,\n",
              "         0.        , 0.        , 0.29733922, 0.29733922, 0.        ,\n",
              "         0.        , 0.        , 0.        , 0.29733922, 0.        ,\n",
              "         0.29733922, 0.24072172, 0.        , 0.24072172, 0.29733922,\n",
              "         0.        ]])"
            ]
          },
          "metadata": {},
          "execution_count": 42
        }
      ]
    },
    {
      "cell_type": "code",
      "source": [
        "cosine_similarity(palavras_vetorizadas[0], palavras_vetorizadas[1])"
      ],
      "metadata": {
        "colab": {
          "base_uri": "https://localhost:8080/"
        },
        "id": "-bh10524CFRv",
        "outputId": "f96cb30d-dab9-49d8-cfa3-4387e6aa5ede"
      },
      "execution_count": null,
      "outputs": [
        {
          "output_type": "execute_result",
          "data": {
            "text/plain": [
              "array([[0.04851795]])"
            ]
          },
          "metadata": {},
          "execution_count": 43
        }
      ]
    },
    {
      "cell_type": "code",
      "source": [
        "similiaridade = cosine_similarity(palavras_vetorizadas[0], palavras_vetorizadas)\n",
        "similiaridade"
      ],
      "metadata": {
        "colab": {
          "base_uri": "https://localhost:8080/"
        },
        "id": "QVOvHu8PCHOP",
        "outputId": "5af922b1-a165-49ab-e76f-0b634d3005a8"
      },
      "execution_count": null,
      "outputs": [
        {
          "output_type": "execute_result",
          "data": {
            "text/plain": [
              "array([[1.        , 0.04851795, 0.05422512, 1.        ]])"
            ]
          },
          "metadata": {},
          "execution_count": 44
        }
      ]
    },
    {
      "cell_type": "code",
      "source": [
        "def responder(texto_usuario):\n",
        "  resposta_chatbot = ''\n",
        "  lista_sentencas_preprocessada.append(texto_usuario)\n",
        "\n",
        "  tfidf = TfidfVectorizer()\n",
        "  palavras_vetorizadas = tfidf.fit_transform(lista_sentencas_preprocessada)\n",
        "\n",
        "  similaridade = cosine_similarity(palavras_vetorizadas[-1], palavras_vetorizadas)\n",
        "\n",
        "  indice_sentenca = similaridade.argsort()[0][-2]\n",
        "  vetor_similar = similaridade.flatten()\n",
        "  vetor_similar.sort()\n",
        "  vetor_encontrado = vetor_similar[-2]\n",
        "\n",
        "  if (vetor_encontrado == 0):\n",
        "    resposta_chatbot = resposta_chatbot + 'Desculpe, mas não entendi!'\n",
        "    return resposta_chatbot\n",
        "  else:\n",
        "    resposta_chatbot = resposta_chatbot + lista_sentencas[indice_sentenca]\n",
        "    return resposta_chatbot"
      ],
      "metadata": {
        "id": "F6MdvezECIy3"
      },
      "execution_count": null,
      "outputs": []
    },
    {
      "cell_type": "code",
      "source": [
        "continuar = True\n",
        "print('Olá, sou um chatbot e vou responder perguntas sobre o Snoopy: ')\n",
        "while (continuar == True):\n",
        "  texto_usuario = input()\n",
        "  texto_usuario = texto_usuario.lower()\n",
        "  if (texto_usuario != 'sair'):\n",
        "    if (responder_saudacao(texto_usuario) != None):\n",
        "      print('Chatbot: ' + responder_saudacao(texto_usuario))\n",
        "    else:\n",
        "      print('Chatbot: ')\n",
        "      print(responder(preprocessamento(texto_usuario)))\n",
        "      lista_sentencas_preprocessada.remove(preprocessamento(texto_usuario))\n",
        "  else:\n",
        "    continuar = False\n",
        "    print('Chatbot: Até breve!')"
      ],
      "metadata": {
        "colab": {
          "base_uri": "https://localhost:8080/"
        },
        "id": "KX28s2SgCJZ_",
        "outputId": "0a2070b5-9adb-473c-ef31-a8e8af4e9ed6"
      },
      "execution_count": null,
      "outputs": [
        {
          "output_type": "stream",
          "name": "stdout",
          "text": [
            "Olá, sou um chatbot e vou responder perguntas sobre o Snoopy: \n",
            "historia do personagem?\n",
            "Chatbot: \n",
            "um dos primeiros desenvolvimentos do personagem de snoopy foi a sua tendência para dormir no telhado da sua casa, em vez de dentro dela.\n",
            "qual idade\n",
            "Chatbot: \n",
            "Desculpe, mas não entendi!\n",
            "que ano foi criado?\n",
            "Chatbot: \n",
            "ao longo dos anos, foi revelado que snoopy nasceu e foi criado na fazenda de cães daisy hill  .\n"
          ]
        }
      ]
    }
  ]
}